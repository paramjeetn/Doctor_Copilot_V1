{
  "nbformat": 4,
  "nbformat_minor": 0,
  "metadata": {
    "colab": {
      "provenance": []
    },
    "kernelspec": {
      "name": "python3",
      "display_name": "Python 3"
    },
    "language_info": {
      "name": "python"
    }
  },
  "cells": [
    {
      "cell_type": "code",
      "execution_count": null,
      "metadata": {
        "collapsed": true,
        "id": "dxqrpxxw2lGL"
      },
      "outputs": [],
      "source": [
        " #visualization tool for displaying long load/processing times\n",
        "!pip install tqdm --quiet\n",
        "#data processing\n",
        "!pip install pandas --quiet\n",
        "#workhorse for converting text into embeddings/vectors\n",
        "!pip install sentence-transformers==2.2.2 --quiet\n",
        "#data framework for LLM applications\n",
        "!pip install llama-index==0.9.29  --quiet\n",
        "#logging output\n",
        "!pip install loguru==0.7.0 --quiet\n",
        "#convenient pretty printing library\n",
        "!pip install rich --quiet\n"
      ]
    },
    {
      "cell_type": "code",
      "source": [
        "!curl -o Data_Med.json https://raw.githubusercontent.com/paramjeetn/Doctor_Copilot_V1/main/Data/Data_Med.json\n"
      ],
      "metadata": {
        "id": "TVNiZqzzJu_r"
      },
      "execution_count": null,
      "outputs": []
    },
    {
      "cell_type": "code",
      "source": [
        "%load_ext autoreload\n",
        "%autoreload 2\n",
        "\n",
        "#standard libraries\n",
        "import sys\n",
        "sys.path.append('../')\n",
        "\n",
        "import json\n",
        "import os\n",
        "import time\n",
        "from typing import List, Tuple\n",
        "from math import ceil\n",
        "\n",
        "#external libraries\n",
        "import pandas as pd\n",
        "import numpy as np\n",
        "from rich import print\n",
        "from rich.pretty import pprint #nifty library for pretty printing\n",
        "from torch import cuda\n",
        "from tqdm import tqdm\n",
        "\n"
      ],
      "metadata": {
        "id": "rVxDl7MJKs6A"
      },
      "execution_count": 4,
      "outputs": []
    },
    {
      "cell_type": "code",
      "source": [
        "#root folder on Google Colab is: /content/\n",
        "root_folder = '/content/'  #'../data'\n",
        "data_file = 'Data_Med.json'\n",
        "data_path = os.path.join(root_folder, data_file)\n"
      ],
      "metadata": {
        "id": "-Y9k7OPOK1Px"
      },
      "execution_count": 5,
      "outputs": []
    },
    {
      "cell_type": "code",
      "source": [
        "def load_json(file_path: str) -> list[dict]:\n",
        "  with open(file_path) as f:\n",
        "    data = json.load(f)\n",
        "  return data\n",
        "\n",
        "data = load_json(data_path)\n",
        "print(f'Total # of papers: {len(data)}')"
      ],
      "metadata": {
        "id": "WtQfbJ9dK70E",
        "colab": {
          "base_uri": "https://localhost:8080/",
          "height": 33
        },
        "outputId": "effd5f4d-05aa-432a-b9aa-30001f0fbabf"
      },
      "execution_count": 6,
      "outputs": [
        {
          "output_type": "display_data",
          "data": {
            "text/plain": [
              "Total # of papers: \u001b[1;36m14\u001b[0m\n"
            ],
            "text/html": [
              "<pre style=\"white-space:pre;overflow-x:auto;line-height:normal;font-family:Menlo,'DejaVu Sans Mono',consolas,'Courier New',monospace\">Total # of papers: <span style=\"color: #008080; text-decoration-color: #008080; font-weight: bold\">14</span>\n",
              "</pre>\n"
            ]
          },
          "metadata": {}
        }
      ]
    },
    {
      "cell_type": "code",
      "source": [
        "contents = [d['content'] for d in data]\n",
        "content_lengths = [len(content.split()) for content in contents]\n",
        "df = pd.DataFrame(content_lengths, columns=['# Words'])\n",
        "df.describe()"
      ],
      "metadata": {
        "id": "wlsV5sHQNjJ5",
        "colab": {
          "base_uri": "https://localhost:8080/",
          "height": 300
        },
        "outputId": "f155b9ff-d3bb-4000-cd44-25288b29885c"
      },
      "execution_count": 7,
      "outputs": [
        {
          "output_type": "execute_result",
          "data": {
            "text/plain": [
              "           # Words\n",
              "count    14.000000\n",
              "mean    862.285714\n",
              "std     423.422580\n",
              "min     362.000000\n",
              "25%     639.000000\n",
              "50%     789.500000\n",
              "75%    1025.750000\n",
              "max    2116.000000"
            ],
            "text/html": [
              "\n",
              "  <div id=\"df-9a81e61e-4cda-42cd-b242-032b13bd3998\" class=\"colab-df-container\">\n",
              "    <div>\n",
              "<style scoped>\n",
              "    .dataframe tbody tr th:only-of-type {\n",
              "        vertical-align: middle;\n",
              "    }\n",
              "\n",
              "    .dataframe tbody tr th {\n",
              "        vertical-align: top;\n",
              "    }\n",
              "\n",
              "    .dataframe thead th {\n",
              "        text-align: right;\n",
              "    }\n",
              "</style>\n",
              "<table border=\"1\" class=\"dataframe\">\n",
              "  <thead>\n",
              "    <tr style=\"text-align: right;\">\n",
              "      <th></th>\n",
              "      <th># Words</th>\n",
              "    </tr>\n",
              "  </thead>\n",
              "  <tbody>\n",
              "    <tr>\n",
              "      <th>count</th>\n",
              "      <td>14.000000</td>\n",
              "    </tr>\n",
              "    <tr>\n",
              "      <th>mean</th>\n",
              "      <td>862.285714</td>\n",
              "    </tr>\n",
              "    <tr>\n",
              "      <th>std</th>\n",
              "      <td>423.422580</td>\n",
              "    </tr>\n",
              "    <tr>\n",
              "      <th>min</th>\n",
              "      <td>362.000000</td>\n",
              "    </tr>\n",
              "    <tr>\n",
              "      <th>25%</th>\n",
              "      <td>639.000000</td>\n",
              "    </tr>\n",
              "    <tr>\n",
              "      <th>50%</th>\n",
              "      <td>789.500000</td>\n",
              "    </tr>\n",
              "    <tr>\n",
              "      <th>75%</th>\n",
              "      <td>1025.750000</td>\n",
              "    </tr>\n",
              "    <tr>\n",
              "      <th>max</th>\n",
              "      <td>2116.000000</td>\n",
              "    </tr>\n",
              "  </tbody>\n",
              "</table>\n",
              "</div>\n",
              "    <div class=\"colab-df-buttons\">\n",
              "\n",
              "  <div class=\"colab-df-container\">\n",
              "    <button class=\"colab-df-convert\" onclick=\"convertToInteractive('df-9a81e61e-4cda-42cd-b242-032b13bd3998')\"\n",
              "            title=\"Convert this dataframe to an interactive table.\"\n",
              "            style=\"display:none;\">\n",
              "\n",
              "  <svg xmlns=\"http://www.w3.org/2000/svg\" height=\"24px\" viewBox=\"0 -960 960 960\">\n",
              "    <path d=\"M120-120v-720h720v720H120Zm60-500h600v-160H180v160Zm220 220h160v-160H400v160Zm0 220h160v-160H400v160ZM180-400h160v-160H180v160Zm440 0h160v-160H620v160ZM180-180h160v-160H180v160Zm440 0h160v-160H620v160Z\"/>\n",
              "  </svg>\n",
              "    </button>\n",
              "\n",
              "  <style>\n",
              "    .colab-df-container {\n",
              "      display:flex;\n",
              "      gap: 12px;\n",
              "    }\n",
              "\n",
              "    .colab-df-convert {\n",
              "      background-color: #E8F0FE;\n",
              "      border: none;\n",
              "      border-radius: 50%;\n",
              "      cursor: pointer;\n",
              "      display: none;\n",
              "      fill: #1967D2;\n",
              "      height: 32px;\n",
              "      padding: 0 0 0 0;\n",
              "      width: 32px;\n",
              "    }\n",
              "\n",
              "    .colab-df-convert:hover {\n",
              "      background-color: #E2EBFA;\n",
              "      box-shadow: 0px 1px 2px rgba(60, 64, 67, 0.3), 0px 1px 3px 1px rgba(60, 64, 67, 0.15);\n",
              "      fill: #174EA6;\n",
              "    }\n",
              "\n",
              "    .colab-df-buttons div {\n",
              "      margin-bottom: 4px;\n",
              "    }\n",
              "\n",
              "    [theme=dark] .colab-df-convert {\n",
              "      background-color: #3B4455;\n",
              "      fill: #D2E3FC;\n",
              "    }\n",
              "\n",
              "    [theme=dark] .colab-df-convert:hover {\n",
              "      background-color: #434B5C;\n",
              "      box-shadow: 0px 1px 3px 1px rgba(0, 0, 0, 0.15);\n",
              "      filter: drop-shadow(0px 1px 2px rgba(0, 0, 0, 0.3));\n",
              "      fill: #FFFFFF;\n",
              "    }\n",
              "  </style>\n",
              "\n",
              "    <script>\n",
              "      const buttonEl =\n",
              "        document.querySelector('#df-9a81e61e-4cda-42cd-b242-032b13bd3998 button.colab-df-convert');\n",
              "      buttonEl.style.display =\n",
              "        google.colab.kernel.accessAllowed ? 'block' : 'none';\n",
              "\n",
              "      async function convertToInteractive(key) {\n",
              "        const element = document.querySelector('#df-9a81e61e-4cda-42cd-b242-032b13bd3998');\n",
              "        const dataTable =\n",
              "          await google.colab.kernel.invokeFunction('convertToInteractive',\n",
              "                                                    [key], {});\n",
              "        if (!dataTable) return;\n",
              "\n",
              "        const docLinkHtml = 'Like what you see? Visit the ' +\n",
              "          '<a target=\"_blank\" href=https://colab.research.google.com/notebooks/data_table.ipynb>data table notebook</a>'\n",
              "          + ' to learn more about interactive tables.';\n",
              "        element.innerHTML = '';\n",
              "        dataTable['output_type'] = 'display_data';\n",
              "        await google.colab.output.renderOutput(dataTable, element);\n",
              "        const docLink = document.createElement('div');\n",
              "        docLink.innerHTML = docLinkHtml;\n",
              "        element.appendChild(docLink);\n",
              "      }\n",
              "    </script>\n",
              "  </div>\n",
              "\n",
              "\n",
              "<div id=\"df-0ac01807-fb1b-460f-bd64-46cbe0e06598\">\n",
              "  <button class=\"colab-df-quickchart\" onclick=\"quickchart('df-0ac01807-fb1b-460f-bd64-46cbe0e06598')\"\n",
              "            title=\"Suggest charts\"\n",
              "            style=\"display:none;\">\n",
              "\n",
              "<svg xmlns=\"http://www.w3.org/2000/svg\" height=\"24px\"viewBox=\"0 0 24 24\"\n",
              "     width=\"24px\">\n",
              "    <g>\n",
              "        <path d=\"M19 3H5c-1.1 0-2 .9-2 2v14c0 1.1.9 2 2 2h14c1.1 0 2-.9 2-2V5c0-1.1-.9-2-2-2zM9 17H7v-7h2v7zm4 0h-2V7h2v10zm4 0h-2v-4h2v4z\"/>\n",
              "    </g>\n",
              "</svg>\n",
              "  </button>\n",
              "\n",
              "<style>\n",
              "  .colab-df-quickchart {\n",
              "      --bg-color: #E8F0FE;\n",
              "      --fill-color: #1967D2;\n",
              "      --hover-bg-color: #E2EBFA;\n",
              "      --hover-fill-color: #174EA6;\n",
              "      --disabled-fill-color: #AAA;\n",
              "      --disabled-bg-color: #DDD;\n",
              "  }\n",
              "\n",
              "  [theme=dark] .colab-df-quickchart {\n",
              "      --bg-color: #3B4455;\n",
              "      --fill-color: #D2E3FC;\n",
              "      --hover-bg-color: #434B5C;\n",
              "      --hover-fill-color: #FFFFFF;\n",
              "      --disabled-bg-color: #3B4455;\n",
              "      --disabled-fill-color: #666;\n",
              "  }\n",
              "\n",
              "  .colab-df-quickchart {\n",
              "    background-color: var(--bg-color);\n",
              "    border: none;\n",
              "    border-radius: 50%;\n",
              "    cursor: pointer;\n",
              "    display: none;\n",
              "    fill: var(--fill-color);\n",
              "    height: 32px;\n",
              "    padding: 0;\n",
              "    width: 32px;\n",
              "  }\n",
              "\n",
              "  .colab-df-quickchart:hover {\n",
              "    background-color: var(--hover-bg-color);\n",
              "    box-shadow: 0 1px 2px rgba(60, 64, 67, 0.3), 0 1px 3px 1px rgba(60, 64, 67, 0.15);\n",
              "    fill: var(--button-hover-fill-color);\n",
              "  }\n",
              "\n",
              "  .colab-df-quickchart-complete:disabled,\n",
              "  .colab-df-quickchart-complete:disabled:hover {\n",
              "    background-color: var(--disabled-bg-color);\n",
              "    fill: var(--disabled-fill-color);\n",
              "    box-shadow: none;\n",
              "  }\n",
              "\n",
              "  .colab-df-spinner {\n",
              "    border: 2px solid var(--fill-color);\n",
              "    border-color: transparent;\n",
              "    border-bottom-color: var(--fill-color);\n",
              "    animation:\n",
              "      spin 1s steps(1) infinite;\n",
              "  }\n",
              "\n",
              "  @keyframes spin {\n",
              "    0% {\n",
              "      border-color: transparent;\n",
              "      border-bottom-color: var(--fill-color);\n",
              "      border-left-color: var(--fill-color);\n",
              "    }\n",
              "    20% {\n",
              "      border-color: transparent;\n",
              "      border-left-color: var(--fill-color);\n",
              "      border-top-color: var(--fill-color);\n",
              "    }\n",
              "    30% {\n",
              "      border-color: transparent;\n",
              "      border-left-color: var(--fill-color);\n",
              "      border-top-color: var(--fill-color);\n",
              "      border-right-color: var(--fill-color);\n",
              "    }\n",
              "    40% {\n",
              "      border-color: transparent;\n",
              "      border-right-color: var(--fill-color);\n",
              "      border-top-color: var(--fill-color);\n",
              "    }\n",
              "    60% {\n",
              "      border-color: transparent;\n",
              "      border-right-color: var(--fill-color);\n",
              "    }\n",
              "    80% {\n",
              "      border-color: transparent;\n",
              "      border-right-color: var(--fill-color);\n",
              "      border-bottom-color: var(--fill-color);\n",
              "    }\n",
              "    90% {\n",
              "      border-color: transparent;\n",
              "      border-bottom-color: var(--fill-color);\n",
              "    }\n",
              "  }\n",
              "</style>\n",
              "\n",
              "  <script>\n",
              "    async function quickchart(key) {\n",
              "      const quickchartButtonEl =\n",
              "        document.querySelector('#' + key + ' button');\n",
              "      quickchartButtonEl.disabled = true;  // To prevent multiple clicks.\n",
              "      quickchartButtonEl.classList.add('colab-df-spinner');\n",
              "      try {\n",
              "        const charts = await google.colab.kernel.invokeFunction(\n",
              "            'suggestCharts', [key], {});\n",
              "      } catch (error) {\n",
              "        console.error('Error during call to suggestCharts:', error);\n",
              "      }\n",
              "      quickchartButtonEl.classList.remove('colab-df-spinner');\n",
              "      quickchartButtonEl.classList.add('colab-df-quickchart-complete');\n",
              "    }\n",
              "    (() => {\n",
              "      let quickchartButtonEl =\n",
              "        document.querySelector('#df-0ac01807-fb1b-460f-bd64-46cbe0e06598 button');\n",
              "      quickchartButtonEl.style.display =\n",
              "        google.colab.kernel.accessAllowed ? 'block' : 'none';\n",
              "    })();\n",
              "  </script>\n",
              "</div>\n",
              "\n",
              "    </div>\n",
              "  </div>\n"
            ],
            "application/vnd.google.colaboratory.intrinsic+json": {
              "type": "dataframe",
              "summary": "{\n  \"name\": \"df\",\n  \"rows\": 8,\n  \"fields\": [\n    {\n      \"column\": \"# Words\",\n      \"properties\": {\n        \"dtype\": \"number\",\n        \"std\": 627.9957488534548,\n        \"min\": 14.0,\n        \"max\": 2116.0,\n        \"num_unique_values\": 8,\n        \"samples\": [\n          862.2857142857143,\n          789.5,\n          14.0\n        ],\n        \"semantic_type\": \"\",\n        \"description\": \"\"\n      }\n    }\n  ]\n}"
            }
          },
          "metadata": {},
          "execution_count": 7
        }
      ]
    },
    {
      "cell_type": "code",
      "source": [
        "#Tokenisation not needed for chroma\n",
        "from llama_index.text_splitter import SentenceSplitter #one of the best on the market\n",
        "\n",
        "#set chunk size and instantiate your SentenceSplitter\n",
        "chunk_size = 256\n",
        "gpt35_txt_splitter = SentenceSplitter(chunk_size=chunk_size, chunk_overlap=0)\n"
      ],
      "metadata": {
        "id": "UcczfWPfQker"
      },
      "execution_count": 8,
      "outputs": []
    },
    {
      "cell_type": "code",
      "source": [
        "def split_contents(corpus: list[dict],\n",
        "                   text_splitter: SentenceSplitter,\n",
        "                   content_field: str='content'\n",
        "                   ) -> list[list[str]]:\n",
        "\n",
        "    return [text_splitter.split_text(d[content_field]) for d in corpus]\n"
      ],
      "metadata": {
        "id": "jf7-DAXIazSa"
      },
      "execution_count": 9,
      "outputs": []
    },
    {
      "cell_type": "code",
      "source": [
        "content_splits = split_contents(data, gpt35_txt_splitter,'content')\n",
        "print(content_splits[0])"
      ],
      "metadata": {
        "id": "xF0uG_AHa00U",
        "collapsed": true
      },
      "execution_count": null,
      "outputs": []
    },
    {
      "cell_type": "code",
      "source": [
        "def join_metadata(data: list[dict], content_splits: list[list[str]]) -> list[dict]:\n",
        "\n",
        "    joined_documents = []\n",
        "\n",
        "    for i, episode in enumerate(data):\n",
        "        for j, text in enumerate(content_splits[i]):\n",
        "            new_doc = {}\n",
        "            if j == 0:\n",
        "                summary_doc = {}\n",
        "                summary_doc[\"doc_id\"] = data[i][\"doc_id\"]\n",
        "                summary_doc[\"content_id\"] = data[i][\"doc_id\"] + \"_Summary\"\n",
        "                summary_doc[\"doc_name\"] = data[i][\"doc_name\"]\n",
        "                summary_doc[\"content\"] = data[i][\"Summary\"]\n",
        "                joined_documents.append(summary_doc)\n",
        "\n",
        "            new_doc[\"doc_id\"] = data[i][\"doc_id\"]\n",
        "            new_doc[\"content_id\"] = data[i][\"doc_id\"] + \"_cont_\" + str(j+1)\n",
        "            new_doc[\"doc_name\"] = data[i][\"doc_name\"]\n",
        "            new_doc[\"content\"] = text\n",
        "            joined_documents.append(new_doc)\n",
        "\n",
        "    return joined_documents"
      ],
      "metadata": {
        "collapsed": true,
        "id": "IrAjZjAha6h6"
      },
      "execution_count": 12,
      "outputs": []
    },
    {
      "cell_type": "code",
      "source": [
        "docs = join_metadata(data, content_splits )\n",
        "print(docs[:5])"
      ],
      "metadata": {
        "id": "Cu7LGJxUgpTK",
        "collapsed": true
      },
      "execution_count": null,
      "outputs": []
    },
    {
      "cell_type": "code",
      "source": [
        "print(len(docs))"
      ],
      "metadata": {
        "colab": {
          "base_uri": "https://localhost:8080/",
          "height": 33
        },
        "id": "PegnTeqx1ryR",
        "outputId": "c72271ea-f8f5-40db-c03b-bb377a3bbb10"
      },
      "execution_count": 14,
      "outputs": [
        {
          "output_type": "display_data",
          "data": {
            "text/plain": [
              "\u001b[1;36m105\u001b[0m\n"
            ],
            "text/html": [
              "<pre style=\"white-space:pre;overflow-x:auto;line-height:normal;font-family:Menlo,'DejaVu Sans Mono',consolas,'Courier New',monospace\"><span style=\"color: #008080; text-decoration-color: #008080; font-weight: bold\">105</span>\n",
              "</pre>\n"
            ]
          },
          "metadata": {}
        }
      ]
    },
    {
      "cell_type": "code",
      "source": [
        "import json\n",
        "\n",
        "with open('Split_Data_Med.json', 'w') as f:\n",
        "    json.dump(docs, f, indent=4, ensure_ascii=False)"
      ],
      "metadata": {
        "id": "nedPj5KL1UvY"
      },
      "execution_count": 15,
      "outputs": []
    }
  ]
}