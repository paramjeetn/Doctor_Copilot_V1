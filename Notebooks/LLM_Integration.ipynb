{
  "nbformat": 4,
  "nbformat_minor": 0,
  "metadata": {
    "colab": {
      "provenance": []
    },
    "kernelspec": {
      "name": "python3",
      "display_name": "Python 3"
    },
    "language_info": {
      "name": "python"
    }
  },
  "cells": [
    {
      "cell_type": "code",
      "source": [
        "!pip -q install tqdm\n",
        "!pip -q install pandas\n",
        "!pip -q install sentence-transformers==2.2.2\n",
        "!pip -q install llama-index==0.9.29\n",
        "!pip -q install loguru==0.7.0\n",
        "!pip -q install rich\n",
        "!pip -q install tiktoken\n",
        "!pip -q install chromadb"
      ],
      "metadata": {
        "id": "GEUMVOCVWcqq"
      },
      "execution_count": null,
      "outputs": []
    },
    {
      "cell_type": "code",
      "source": [
        "%load_ext autoreload\n",
        "%autoreload 2\n",
        "\n",
        "#standard libraries\n",
        "import sys\n",
        "sys.path.append('../')\n",
        "\n",
        "import json\n",
        "import os\n",
        "import time\n",
        "from typing import List, Tuple\n",
        "from math import ceil\n",
        "\n",
        "#external libraries\n",
        "import pandas as pd\n",
        "import numpy as np\n",
        "from rich import print\n",
        "from rich.pretty import pprint #nifty library for pretty printing\n",
        "from torch import cuda\n",
        "from tqdm import tqdm"
      ],
      "metadata": {
        "id": "jiTHHUDFhU9J"
      },
      "execution_count": null,
      "outputs": []
    },
    {
      "cell_type": "code",
      "source": [
        "from google.colab import drive\n",
        "drive.mount('/content/gdrive')"
      ],
      "metadata": {
        "colab": {
          "base_uri": "https://localhost:8080/"
        },
        "id": "_SkMi0bGXL7h",
        "outputId": "79767cea-a6b1-4d0f-c2d9-db9b57d9ce14"
      },
      "execution_count": null,
      "outputs": [
        {
          "output_type": "stream",
          "name": "stdout",
          "text": [
            "Mounted at /content/gdrive\n"
          ]
        }
      ]
    },
    {
      "cell_type": "code",
      "execution_count": null,
      "metadata": {
        "colab": {
          "base_uri": "https://localhost:8080/"
        },
        "id": "DPhLq_pmV0Ow",
        "outputId": "2c773c84-308f-40d2-c257-30fa2621837a"
      },
      "outputs": [
        {
          "output_type": "execute_result",
          "data": {
            "text/plain": [
              "1719757600069970271"
            ]
          },
          "metadata": {},
          "execution_count": 4
        }
      ],
      "source": [
        "import json\n",
        "import chromadb\n",
        "#change path accordingly for local and colab\n",
        "path = '/content/gdrive/MyDrive/Data_Medical_Rag/ChromaDb'\n",
        "client = chromadb.PersistentClient(path)\n",
        "client.heartbeat()\n",
        "\n"
      ]
    },
    {
      "cell_type": "code",
      "source": [
        "collection = client.get_collection(\"Doctor_Copilot_chromaDB_Collection\")\n"
      ],
      "metadata": {
        "id": "RQhTwAcOjCx9"
      },
      "execution_count": null,
      "outputs": []
    },
    {
      "cell_type": "code",
      "source": [
        "\n",
        "collection.query(\n",
        "    query_texts=[\"Prevention of diabetes in older adults\"],\n",
        "    n_results=2,\n",
        ")\n"
      ],
      "metadata": {
        "colab": {
          "base_uri": "https://localhost:8080/"
        },
        "id": "4WUqH2eujn0J",
        "outputId": "eae6f5d2-9e89-439d-fb43-c8a857649714"
      },
      "execution_count": null,
      "outputs": [
        {
          "output_type": "stream",
          "name": "stderr",
          "text": [
            "/root/.cache/chroma/onnx_models/all-MiniLM-L6-v2/onnx.tar.gz: 100%|██████████| 79.3M/79.3M [00:01<00:00, 64.4MiB/s]\n"
          ]
        },
        {
          "output_type": "execute_result",
          "data": {
            "text/plain": [
              "{'ids': [['d_2_cont_2', 'd_11_cont_1']],\n",
              " 'distances': [[0.8127467058934484, 0.9373169392363202]],\n",
              " 'metadatas': [[None, None]],\n",
              " 'embeddings': None,\n",
              " 'documents': [['• Symptoms suggestive of diabetes or changes in risk (B) Diet and Physical Activity Recommendations for Adults at Risk for Type 2 Diabetes (i) Follow a Healthy Eating Pattern • Emphasize whole grains, legumes, nuts, fruits, and vegetables and minimize refined and processed foods • A variety of healthy eating patterns include: » Mediterranean-style » Low-carbohydrate » Vegetarian or plant-based » DASH (Dietary Approaches to Stop Hypertension) (ii) Get Regular Physical Activity • ≥150 min/week of moderate-intensity physical activity, such as brisk walking • May include resistance or strength training • Break up prolonged sedentary time (iii) Where to Refer: • Refer adults with overweight or obesity who are at high risk for type 2 diabetes to a recognized diabetes prevention lifestyle change program (cdc.gov/diabetes/prevention/find-a-program.html). (iv) What is the Diabetes Prevention Program? • The Diabetes Prevention Program (DPP) study demonstrated that intensive lifestyle intervention could reduce the risk of type diabetes by 58% over 3 years.',\n",
              "   'Individualization of Treatment Goals and Medication Plans for Older Adults With Diabetes Central Panel: Patient Characteristics and Health Status i) Healthy Individuals: (1) Characteristics: Few coexisting chronic illnesses and intact cognitive and functional status. (2) Treatment Goal: A1C <7-7.5% (53-58 mmol/mol). ii) Complex/Intermediate Health: (1) Characteristics: Multiple coexisting chronic illnesses or two or more instrumental activities of daily living (IADL) impairments or mild to moderate cognitive impairments. (2) Treatment Goal: A1C <8.0% (<64 mmol/mol). iii) Community-dwelling Individuals in Skilled Nursing Facilities: (1) Characteristics: Receiving care in a skilled nursing facility for short-term rehabilitation. (2) Treatment Goal: Focus on glucose goals of 100–200 mg/dL (5.55–11.1 mmol/L) rather than strict A1C targets. iv) Very Complex/Poor Health: (1) Characteristics: Long-term care or end-stage chronic illnesses or moderate to severe cognitive impairment or more ADL impairments.']],\n",
              " 'uris': None,\n",
              " 'data': None,\n",
              " 'included': ['metadatas', 'documents', 'distances']}"
            ]
          },
          "metadata": {},
          "execution_count": 8
        }
      ]
    },
    {
      "cell_type": "code",
      "source": [
        "result = collection.query(\n",
        "    query_texts=[\"What are the specific recommendations for screening and treatment of nanoholic fatty liver disease (NAFLD) in people with type 2 diabetes who are over 50 years old\"],\n",
        "    n_results=3,\n",
        ")\n",
        "print(result['documents'])"
      ],
      "metadata": {
        "colab": {
          "base_uri": "https://localhost:8080/",
          "height": 513
        },
        "id": "zp7RBE-Hj9_l",
        "outputId": "f7dc4a11-769e-48b7-e6aa-dc8ba1462b6e"
      },
      "execution_count": null,
      "outputs": [
        {
          "output_type": "display_data",
          "data": {
            "text/plain": [
              "\u001b[1m[\u001b[0m\n",
              "    \u001b[1m[\u001b[0m\n",
              "        \u001b[32m'Consider antiresorptive and osteo-anabolic agents for those with aT-score ≤−2.0 or previous fragility \u001b[0m\n",
              "\u001b[32mfractures. Question: Are people with diabetes at increased risk for cancer? Ans: Diabetes is associated with \u001b[0m\n",
              "\u001b[32mincreased risk of cancers of the liver, pancreas, endometrium, colon/rectum, breast, and bladder. Nevertheless, \u001b[0m\n",
              "\u001b[32mcancer screening recommendations are the same for people with diabetes as for those without diabetes. Question: How\u001b[0m\n",
              "\u001b[32mprevalent is nonalcoholic fatty liver disease \u001b[0m\u001b[32m(\u001b[0m\u001b[32mNAFLD\u001b[0m\u001b[32m)\u001b[0m\u001b[32m? Who should be screened for it and how? Ans: i\u001b[0m\u001b[32m)\u001b[0m\u001b[32m Prevalence \u001b[0m\n",
              "\u001b[32mApproximately 70% of people with type 2 diabetes have NAFLD.'\u001b[0m,\n",
              "        \u001b[32m'Indeterminate Risk: Further Testing: Proceed with vibration-controlled transient elastography or an ELF \u001b[0m\n",
              "\u001b[32m(\u001b[0m\u001b[32mEnhanced Liver Fibrosis\u001b[0m\u001b[32m)\u001b[0m\u001b[32m blood test to refine the risk assessment. After further testing: Low Risk: Continue to \u001b[0m\n",
              "\u001b[32mmonitor with a repeat of the test in 2-3 years. High Risk: Refer to a gastroenterologist or hepatologist for \u001b[0m\n",
              "\u001b[32mfurther evaluation and management. High Risk: Immediate Referral: Refer directly to a gastroenterologist or \u001b[0m\n",
              "\u001b[32mhepatologist for advanced management and intervention. This flowchart provides a guideline on how to proceed with \u001b[0m\n",
              "\u001b[32mfibrosis risk assessment in patients using initial noninvasive testing and determining the need for further \u001b[0m\n",
              "\u001b[32mevaluation or routine monitoring based on risk levels. Management Weight loss with intensive lifestyle therapy \u001b[0m\n",
              "\u001b[32mand/or metabolic surgery, as appropriate, is recommended. Pioglitazone and glucagon-like peptide 1 receptor \u001b[0m\n",
              "\u001b[32magonists are the preferred agents for treatment of hyperglycemia in adults with type 2 diabetes and NASH, unless \u001b[0m\n",
              "\u001b[32mdecompensated cirrhosis is present. People with type 2 diabetes and decompensated cirrhosis from NASH should be \u001b[0m\n",
              "\u001b[32mtreated with insulin. Statin therapy is safe in the setting of NAFLD.'\u001b[0m,\n",
              "        \u001b[32m'ii\u001b[0m\u001b[32m)\u001b[0m\u001b[32m Screening Goals To identify individuals at risk for complications from nonalcoholic steatohepatitis \u001b[0m\n",
              "\u001b[32m(\u001b[0m\u001b[32mNASH\u001b[0m\u001b[32m)\u001b[0m\u001b[32m, such as cirrhosis and hepatocellular carcinoma To prevent death from liver disease iii\u001b[0m\u001b[32m)\u001b[0m\u001b[32m High-Risk \u001b[0m\n",
              "\u001b[32mindividuals People with central obesity and cardiometabolic risks or insulin resistance Individuals >50 years of \u001b[0m\n",
              "\u001b[32mage Those with persistent high plasma aminotransferase levels \u001b[0m\u001b[32m(\u001b[0m\u001b[32mAST/ALT >30 units/L for >6 months\u001b[0m\u001b[32m)\u001b[0m\u001b[32m iv\u001b[0m\u001b[32m)\u001b[0m\u001b[32m Screening \u001b[0m\n",
              "\u001b[32mTool \u001b[0m\u001b[32m(\u001b[0m\u001b[32mC\u001b[0m\u001b[32m)\u001b[0m\u001b[32m Proposed Algorithm for Risk Stratification in Individuals with NAFLD or NASH. Noninvasive Testing for \u001b[0m\n",
              "\u001b[32mFibrosis \u001b[0m\u001b[32m(\u001b[0m\u001b[32mFIB-4\u001b[0m\u001b[32m)\u001b[0m\u001b[32m Initial Step: Perform FIB-4 test to assess the risk of fibrosis. Risk Categories: Low Risk: \u001b[0m\n",
              "\u001b[32mIndividuals categorized under low risk following the FIB-4 test. Indeterminate Risk: Individuals whose results do \u001b[0m\n",
              "\u001b[32mnot clearly categorize them as either low or high risk. High Risk: Individuals identified as high risk for fibrosis\u001b[0m\n",
              "\u001b[32mbased on the FIB-4 results. Subsequent Actions: Low Risk: Follow-up: Repeat the FIB-4 test in 2-3 years to monitor \u001b[0m\n",
              "\u001b[32many changes.'\u001b[0m\n",
              "    \u001b[1m]\u001b[0m\n",
              "\u001b[1m]\u001b[0m\n"
            ],
            "text/html": [
              "<pre style=\"white-space:pre;overflow-x:auto;line-height:normal;font-family:Menlo,'DejaVu Sans Mono',consolas,'Courier New',monospace\"><span style=\"font-weight: bold\">[</span>\n",
              "    <span style=\"font-weight: bold\">[</span>\n",
              "        <span style=\"color: #008000; text-decoration-color: #008000\">'Consider antiresorptive and osteo-anabolic agents for those with aT-score ≤−2.0 or previous fragility </span>\n",
              "<span style=\"color: #008000; text-decoration-color: #008000\">fractures. Question: Are people with diabetes at increased risk for cancer? Ans: Diabetes is associated with </span>\n",
              "<span style=\"color: #008000; text-decoration-color: #008000\">increased risk of cancers of the liver, pancreas, endometrium, colon/rectum, breast, and bladder. Nevertheless, </span>\n",
              "<span style=\"color: #008000; text-decoration-color: #008000\">cancer screening recommendations are the same for people with diabetes as for those without diabetes. Question: How</span>\n",
              "<span style=\"color: #008000; text-decoration-color: #008000\">prevalent is nonalcoholic fatty liver disease (NAFLD)? Who should be screened for it and how? Ans: i) Prevalence </span>\n",
              "<span style=\"color: #008000; text-decoration-color: #008000\">Approximately 70% of people with type 2 diabetes have NAFLD.'</span>,\n",
              "        <span style=\"color: #008000; text-decoration-color: #008000\">'Indeterminate Risk: Further Testing: Proceed with vibration-controlled transient elastography or an ELF </span>\n",
              "<span style=\"color: #008000; text-decoration-color: #008000\">(Enhanced Liver Fibrosis) blood test to refine the risk assessment. After further testing: Low Risk: Continue to </span>\n",
              "<span style=\"color: #008000; text-decoration-color: #008000\">monitor with a repeat of the test in 2-3 years. High Risk: Refer to a gastroenterologist or hepatologist for </span>\n",
              "<span style=\"color: #008000; text-decoration-color: #008000\">further evaluation and management. High Risk: Immediate Referral: Refer directly to a gastroenterologist or </span>\n",
              "<span style=\"color: #008000; text-decoration-color: #008000\">hepatologist for advanced management and intervention. This flowchart provides a guideline on how to proceed with </span>\n",
              "<span style=\"color: #008000; text-decoration-color: #008000\">fibrosis risk assessment in patients using initial noninvasive testing and determining the need for further </span>\n",
              "<span style=\"color: #008000; text-decoration-color: #008000\">evaluation or routine monitoring based on risk levels. Management Weight loss with intensive lifestyle therapy </span>\n",
              "<span style=\"color: #008000; text-decoration-color: #008000\">and/or metabolic surgery, as appropriate, is recommended. Pioglitazone and glucagon-like peptide 1 receptor </span>\n",
              "<span style=\"color: #008000; text-decoration-color: #008000\">agonists are the preferred agents for treatment of hyperglycemia in adults with type 2 diabetes and NASH, unless </span>\n",
              "<span style=\"color: #008000; text-decoration-color: #008000\">decompensated cirrhosis is present. People with type 2 diabetes and decompensated cirrhosis from NASH should be </span>\n",
              "<span style=\"color: #008000; text-decoration-color: #008000\">treated with insulin. Statin therapy is safe in the setting of NAFLD.'</span>,\n",
              "        <span style=\"color: #008000; text-decoration-color: #008000\">'ii) Screening Goals To identify individuals at risk for complications from nonalcoholic steatohepatitis </span>\n",
              "<span style=\"color: #008000; text-decoration-color: #008000\">(NASH), such as cirrhosis and hepatocellular carcinoma To prevent death from liver disease iii) High-Risk </span>\n",
              "<span style=\"color: #008000; text-decoration-color: #008000\">individuals People with central obesity and cardiometabolic risks or insulin resistance Individuals &gt;50 years of </span>\n",
              "<span style=\"color: #008000; text-decoration-color: #008000\">age Those with persistent high plasma aminotransferase levels (AST/ALT &gt;30 units/L for &gt;6 months) iv) Screening </span>\n",
              "<span style=\"color: #008000; text-decoration-color: #008000\">Tool (C) Proposed Algorithm for Risk Stratification in Individuals with NAFLD or NASH. Noninvasive Testing for </span>\n",
              "<span style=\"color: #008000; text-decoration-color: #008000\">Fibrosis (FIB-4) Initial Step: Perform FIB-4 test to assess the risk of fibrosis. Risk Categories: Low Risk: </span>\n",
              "<span style=\"color: #008000; text-decoration-color: #008000\">Individuals categorized under low risk following the FIB-4 test. Indeterminate Risk: Individuals whose results do </span>\n",
              "<span style=\"color: #008000; text-decoration-color: #008000\">not clearly categorize them as either low or high risk. High Risk: Individuals identified as high risk for fibrosis</span>\n",
              "<span style=\"color: #008000; text-decoration-color: #008000\">based on the FIB-4 results. Subsequent Actions: Low Risk: Follow-up: Repeat the FIB-4 test in 2-3 years to monitor </span>\n",
              "<span style=\"color: #008000; text-decoration-color: #008000\">any changes.'</span>\n",
              "    <span style=\"font-weight: bold\">]</span>\n",
              "<span style=\"font-weight: bold\">]</span>\n",
              "</pre>\n"
            ]
          },
          "metadata": {}
        }
      ]
    }
  ]
}