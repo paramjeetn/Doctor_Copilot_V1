{
  "nbformat": 4,
  "nbformat_minor": 0,
  "metadata": {
    "colab": {
      "provenance": []
    },
    "kernelspec": {
      "name": "python3",
      "display_name": "Python 3"
    },
    "language_info": {
      "name": "python"
    }
  },
  "cells": [
    {
      "cell_type": "markdown",
      "source": [
        "Generate a gemini api key and put in secrets of colab {\"gemini_api\" : \"xxxxxxxxxxxxxxxx\"}<br>\n",
        "RUN ALL AND GET RESPONSE"
      ],
      "metadata": {
        "id": "nIBO7_QheZ2Z"
      }
    },
    {
      "cell_type": "code",
      "source": [
        "!pip -q install tqdm\n",
        "!pip -q install pandas\n",
        "!pip -q install sentence-transformers==2.2.2\n",
        "!pip -q install llama-index==0.9.29\n",
        "!pip -q install loguru==0.7.0\n",
        "!pip -q install rich\n",
        "!pip -q install tiktoken\n",
        "!pip -q install chromadb"
      ],
      "metadata": {
        "id": "GEUMVOCVWcqq"
      },
      "execution_count": null,
      "outputs": []
    },
    {
      "cell_type": "code",
      "source": [
        "%load_ext autoreload\n",
        "%autoreload 2\n",
        "\n",
        "#standard libraries\n",
        "import sys\n",
        "sys.path.append('../')\n",
        "\n",
        "import json\n",
        "import os\n",
        "import time\n",
        "from typing import List, Tuple\n",
        "from math import ceil\n",
        "\n",
        "#external libraries\n",
        "import pandas as pd\n",
        "import numpy as np\n",
        "from rich import print\n",
        "from rich.pretty import pprint #nifty library for pretty printing\n",
        "from torch import cuda\n",
        "from tqdm import tqdm"
      ],
      "metadata": {
        "id": "jiTHHUDFhU9J"
      },
      "execution_count": 16,
      "outputs": []
    },
    {
      "cell_type": "code",
      "source": [
        "from google.colab import drive\n",
        "drive.mount('/content/gdrive')"
      ],
      "metadata": {
        "colab": {
          "base_uri": "https://localhost:8080/"
        },
        "id": "_SkMi0bGXL7h",
        "outputId": "cf607dc1-6186-4644-bc16-290792a3ad1a"
      },
      "execution_count": 17,
      "outputs": [
        {
          "output_type": "stream",
          "name": "stdout",
          "text": [
            "Mounted at /content/gdrive\n"
          ]
        }
      ]
    },
    {
      "cell_type": "code",
      "source": [
        "!git clone https://github.com/paramjeetn/Doctor_Copilot_V1.git"
      ],
      "metadata": {
        "id": "oTYKg5SZd5vn"
      },
      "execution_count": null,
      "outputs": []
    },
    {
      "cell_type": "code",
      "execution_count": 29,
      "metadata": {
        "colab": {
          "base_uri": "https://localhost:8080/"
        },
        "id": "DPhLq_pmV0Ow",
        "outputId": "232f2aa0-fd34-4224-9769-5e68d39e7d05"
      },
      "outputs": [
        {
          "output_type": "execute_result",
          "data": {
            "text/plain": [
              "1719773236786413833"
            ]
          },
          "metadata": {},
          "execution_count": 29
        }
      ],
      "source": [
        "import json\n",
        "import chromadb\n",
        "#change path accordingly for local and colab\n",
        "path = '/content/Doctor_Copilot_V1/ChromaDb'\n",
        "client = chromadb.PersistentClient(path)\n",
        "client.heartbeat()\n",
        "\n"
      ]
    },
    {
      "cell_type": "code",
      "source": [
        "collection = client.get_collection(\"Doctor_Copilot_chromaDB_Collection\")\n"
      ],
      "metadata": {
        "id": "RQhTwAcOjCx9"
      },
      "execution_count": 30,
      "outputs": []
    },
    {
      "cell_type": "code",
      "source": [
        "\n",
        "collection.query(\n",
        "    query_texts=[\"Prevention of diabetes in older adults\"],\n",
        "    n_results=2,\n",
        ")\n"
      ],
      "metadata": {
        "colab": {
          "base_uri": "https://localhost:8080/"
        },
        "id": "4WUqH2eujn0J",
        "outputId": "5f35f4d8-415a-4f0f-cfb6-f9afc0ba74bc"
      },
      "execution_count": 31,
      "outputs": [
        {
          "output_type": "execute_result",
          "data": {
            "text/plain": [
              "{'ids': [['d_11_Summary', 'd_2_cont_2']],\n",
              " 'distances': [[0.7675116062164307, 0.8127467036247253]],\n",
              " 'metadatas': [[None, None]],\n",
              " 'embeddings': None,\n",
              " 'documents': [['The approach to managing diabetes in older adults is differentiated by their health status, ranging from healthy individuals to those at the end of life, with tailored A1C goals to match each scenario. For healthy older adults, the target A1C is below 7-7.5%, while more complex cases with multiple chronic illnesses or cognitive impairments aim for less stringent targets like <8.0%. Treatment in skilled nursing facilities focuses on maintaining glucose levels between 100–200 mg/dL, avoiding strict A1C adherence. In very complex or poor health situations, the focus shifts from A1C levels to preventing hypoglycemia and managing symptomatic hyperglycemia, emphasizing comfort. Medication strategies are adapted to the individual’s ability to manage diabetes, with options to simplify or intensify regimens based on changes in health status, hypoglycemia risk, and overall treatment goals. Continuous glucose monitoring and other technologies are considered to reduce hypoglycemia, alongside medications that address cardiovascular risks irrespective of glycemic control. This patient-centered approach prioritizes flexible treatment goals to enhance quality of life and reduce treatment burdens in older adults.',\n",
              "   '• Symptoms suggestive of diabetes or changes in risk (B) Diet and Physical Activity Recommendations for Adults at Risk for Type 2 Diabetes (i) Follow a Healthy Eating Pattern • Emphasize whole grains, legumes, nuts, fruits, and vegetables and minimize refined and processed foods • A variety of healthy eating patterns include: » Mediterranean-style » Low-carbohydrate » Vegetarian or plant-based » DASH (Dietary Approaches to Stop Hypertension) (ii) Get Regular Physical Activity • ≥150 min/week of moderate-intensity physical activity, such as brisk walking • May include resistance or strength training • Break up prolonged sedentary time (iii) Where to Refer: • Refer adults with overweight or obesity who are at high risk for type 2 diabetes to a recognized diabetes prevention lifestyle change program (cdc.gov/diabetes/prevention/find-a-program.html). (iv) What is the Diabetes Prevention Program? • The Diabetes Prevention Program (DPP) study demonstrated that intensive lifestyle intervention could reduce the risk of type diabetes by 58% over 3 years.']],\n",
              " 'uris': None,\n",
              " 'data': None,\n",
              " 'included': ['metadatas', 'documents', 'distances']}"
            ]
          },
          "metadata": {},
          "execution_count": 31
        }
      ]
    },
    {
      "cell_type": "code",
      "source": [
        "def get_related_doc(query):\n",
        "    result = collection.query(\n",
        "        query_texts=[query],\n",
        "        n_results=3,\n",
        "    )\n",
        "    return result\n",
        "print(get_related_doc(\"Prevention of diabetes in older adults\"))"
      ],
      "metadata": {
        "colab": {
          "base_uri": "https://localhost:8080/",
          "height": 737
        },
        "id": "9Hbi-21wafGS",
        "outputId": "6f7e0b42-b10c-44d0-e585-43dc9732bb1f"
      },
      "execution_count": 32,
      "outputs": [
        {
          "output_type": "display_data",
          "data": {
            "text/plain": [
              "\u001b[1m{\u001b[0m\n",
              "    \u001b[32m'ids'\u001b[0m: \u001b[1m[\u001b[0m\u001b[1m[\u001b[0m\u001b[32m'd_11_Summary'\u001b[0m, \u001b[32m'd_2_cont_2'\u001b[0m, \u001b[32m'd_8_Summary'\u001b[0m\u001b[1m]\u001b[0m\u001b[1m]\u001b[0m,\n",
              "    \u001b[32m'distances'\u001b[0m: \u001b[1m[\u001b[0m\u001b[1m[\u001b[0m\u001b[1;36m0.7675116062164307\u001b[0m, \u001b[1;36m0.8127467036247253\u001b[0m, \u001b[1;36m0.8671669960021973\u001b[0m\u001b[1m]\u001b[0m\u001b[1m]\u001b[0m,\n",
              "    \u001b[32m'metadatas'\u001b[0m: \u001b[1m[\u001b[0m\u001b[1m[\u001b[0m\u001b[3;35mNone\u001b[0m, \u001b[3;35mNone\u001b[0m, \u001b[3;35mNone\u001b[0m\u001b[1m]\u001b[0m\u001b[1m]\u001b[0m,\n",
              "    \u001b[32m'embeddings'\u001b[0m: \u001b[3;35mNone\u001b[0m,\n",
              "    \u001b[32m'documents'\u001b[0m: \u001b[1m[\u001b[0m\n",
              "        \u001b[1m[\u001b[0m\n",
              "            \u001b[32m'The approach to managing diabetes in older adults is differentiated by their health status, ranging \u001b[0m\n",
              "\u001b[32mfrom healthy individuals to those at the end of life, with tailored A1C goals to match each scenario. For healthy \u001b[0m\n",
              "\u001b[32molder adults, the target A1C is below 7-7.5%, while more complex cases with multiple chronic illnesses or cognitive\u001b[0m\n",
              "\u001b[32mimpairments aim for less stringent targets like <8.0%. Treatment in skilled nursing facilities focuses on \u001b[0m\n",
              "\u001b[32mmaintaining glucose levels between 100–200 mg/dL, avoiding strict A1C adherence. In very complex or poor health \u001b[0m\n",
              "\u001b[32msituations, the focus shifts from A1C levels to preventing hypoglycemia and managing symptomatic hyperglycemia, \u001b[0m\n",
              "\u001b[32memphasizing comfort. Medication strategies are adapted to the individual’s ability to manage diabetes, with options\u001b[0m\n",
              "\u001b[32mto simplify or intensify regimens based on changes in health status, hypoglycemia risk, and overall treatment \u001b[0m\n",
              "\u001b[32mgoals. Continuous glucose monitoring and other technologies are considered to reduce hypoglycemia, alongside \u001b[0m\n",
              "\u001b[32mmedications that address cardiovascular risks irrespective of glycemic control. This patient-centered approach \u001b[0m\n",
              "\u001b[32mprioritizes flexible treatment goals to enhance quality of life and reduce treatment burdens in older adults.'\u001b[0m,\n",
              "            \u001b[32m'• Symptoms suggestive of diabetes or changes in risk \u001b[0m\u001b[32m(\u001b[0m\u001b[32mB\u001b[0m\u001b[32m)\u001b[0m\u001b[32m Diet and Physical Activity Recommendations \u001b[0m\n",
              "\u001b[32mfor Adults at Risk for Type 2 Diabetes \u001b[0m\u001b[32m(\u001b[0m\u001b[32mi\u001b[0m\u001b[32m)\u001b[0m\u001b[32m Follow a Healthy Eating Pattern • Emphasize whole grains, legumes, nuts,\u001b[0m\n",
              "\u001b[32mfruits, and vegetables and minimize refined and processed foods • A variety of healthy eating patterns include: » \u001b[0m\n",
              "\u001b[32mMediterranean-style » Low-carbohydrate » Vegetarian or plant-based » DASH \u001b[0m\u001b[32m(\u001b[0m\u001b[32mDietary Approaches to Stop Hypertension\u001b[0m\u001b[32m)\u001b[0m\n",
              "\u001b[32m(\u001b[0m\u001b[32mii\u001b[0m\u001b[32m)\u001b[0m\u001b[32m Get Regular Physical Activity • ≥150 min/week of moderate-intensity physical activity, such as brisk walking •\u001b[0m\n",
              "\u001b[32mMay include resistance or strength training • Break up prolonged sedentary time \u001b[0m\u001b[32m(\u001b[0m\u001b[32miii\u001b[0m\u001b[32m)\u001b[0m\u001b[32m Where to Refer: • Refer \u001b[0m\n",
              "\u001b[32madults with overweight or obesity who are at high risk for type 2 diabetes to a recognized diabetes prevention \u001b[0m\n",
              "\u001b[32mlifestyle change program \u001b[0m\u001b[32m(\u001b[0m\u001b[32mcdc.gov/diabetes/prevention/find-a-program.html\u001b[0m\u001b[32m)\u001b[0m\u001b[32m. \u001b[0m\u001b[32m(\u001b[0m\u001b[32miv\u001b[0m\u001b[32m)\u001b[0m\u001b[32m What is the Diabetes Prevention \u001b[0m\n",
              "\u001b[32mProgram? • The Diabetes Prevention Program \u001b[0m\u001b[32m(\u001b[0m\u001b[32mDPP\u001b[0m\u001b[32m)\u001b[0m\u001b[32m study demonstrated that intensive lifestyle intervention could \u001b[0m\n",
              "\u001b[32mreduce the risk of type diabetes by 58% over 3 years.'\u001b[0m,\n",
              "            \u001b[32m\"The comprehensive medical evaluation for diabetes management involves a holistic approach that \u001b[0m\n",
              "\u001b[32mprioritizes collaborative goal setting tailored to individual preferences and values. An interprofessional team \u001b[0m\n",
              "\u001b[32mincluding specialists from various medical and community fields supports ongoing care. Key components include \u001b[0m\n",
              "\u001b[32mregular screening for common and serious comorbidities, such as autoimmune disorders and chronic kidney disease, \u001b[0m\n",
              "\u001b[32mparticularly focusing on diabetes-related complications like nephropathy. For instance, people with type 1 diabetes\u001b[0m\n",
              "\u001b[32mare screened for autoimmune thyroid disease and other conditions soon after diagnosis, while both type 1 and type 2\u001b[0m\n",
              "\u001b[32mdiabetes patients undergo regular assessments for bone health, cardiovascular risks, and liver disease. Effective \u001b[0m\n",
              "\u001b[32mmanagement incorporates lifestyle interventions, pharmacotherapy aligned with specific health risks, and regular \u001b[0m\n",
              "\u001b[32mmonitoring of treatment efficacy and safety. The approach also includes a detailed review of the patient's medical,\u001b[0m\n",
              "\u001b[32mfamily, and social history, physical examinations, laboratory evaluations, and vaccinations, ensuring a thorough \u001b[0m\n",
              "\u001b[32massessment and optimal management of diabetes and its associated conditions.\"\u001b[0m\n",
              "        \u001b[1m]\u001b[0m\n",
              "    \u001b[1m]\u001b[0m,\n",
              "    \u001b[32m'uris'\u001b[0m: \u001b[3;35mNone\u001b[0m,\n",
              "    \u001b[32m'data'\u001b[0m: \u001b[3;35mNone\u001b[0m,\n",
              "    \u001b[32m'included'\u001b[0m: \u001b[1m[\u001b[0m\u001b[32m'metadatas'\u001b[0m, \u001b[32m'documents'\u001b[0m, \u001b[32m'distances'\u001b[0m\u001b[1m]\u001b[0m\n",
              "\u001b[1m}\u001b[0m\n"
            ],
            "text/html": [
              "<pre style=\"white-space:pre;overflow-x:auto;line-height:normal;font-family:Menlo,'DejaVu Sans Mono',consolas,'Courier New',monospace\"><span style=\"font-weight: bold\">{</span>\n",
              "    <span style=\"color: #008000; text-decoration-color: #008000\">'ids'</span>: <span style=\"font-weight: bold\">[[</span><span style=\"color: #008000; text-decoration-color: #008000\">'d_11_Summary'</span>, <span style=\"color: #008000; text-decoration-color: #008000\">'d_2_cont_2'</span>, <span style=\"color: #008000; text-decoration-color: #008000\">'d_8_Summary'</span><span style=\"font-weight: bold\">]]</span>,\n",
              "    <span style=\"color: #008000; text-decoration-color: #008000\">'distances'</span>: <span style=\"font-weight: bold\">[[</span><span style=\"color: #008080; text-decoration-color: #008080; font-weight: bold\">0.7675116062164307</span>, <span style=\"color: #008080; text-decoration-color: #008080; font-weight: bold\">0.8127467036247253</span>, <span style=\"color: #008080; text-decoration-color: #008080; font-weight: bold\">0.8671669960021973</span><span style=\"font-weight: bold\">]]</span>,\n",
              "    <span style=\"color: #008000; text-decoration-color: #008000\">'metadatas'</span>: <span style=\"font-weight: bold\">[[</span><span style=\"color: #800080; text-decoration-color: #800080; font-style: italic\">None</span>, <span style=\"color: #800080; text-decoration-color: #800080; font-style: italic\">None</span>, <span style=\"color: #800080; text-decoration-color: #800080; font-style: italic\">None</span><span style=\"font-weight: bold\">]]</span>,\n",
              "    <span style=\"color: #008000; text-decoration-color: #008000\">'embeddings'</span>: <span style=\"color: #800080; text-decoration-color: #800080; font-style: italic\">None</span>,\n",
              "    <span style=\"color: #008000; text-decoration-color: #008000\">'documents'</span>: <span style=\"font-weight: bold\">[</span>\n",
              "        <span style=\"font-weight: bold\">[</span>\n",
              "            <span style=\"color: #008000; text-decoration-color: #008000\">'The approach to managing diabetes in older adults is differentiated by their health status, ranging </span>\n",
              "<span style=\"color: #008000; text-decoration-color: #008000\">from healthy individuals to those at the end of life, with tailored A1C goals to match each scenario. For healthy </span>\n",
              "<span style=\"color: #008000; text-decoration-color: #008000\">older adults, the target A1C is below 7-7.5%, while more complex cases with multiple chronic illnesses or cognitive</span>\n",
              "<span style=\"color: #008000; text-decoration-color: #008000\">impairments aim for less stringent targets like &lt;8.0%. Treatment in skilled nursing facilities focuses on </span>\n",
              "<span style=\"color: #008000; text-decoration-color: #008000\">maintaining glucose levels between 100–200 mg/dL, avoiding strict A1C adherence. In very complex or poor health </span>\n",
              "<span style=\"color: #008000; text-decoration-color: #008000\">situations, the focus shifts from A1C levels to preventing hypoglycemia and managing symptomatic hyperglycemia, </span>\n",
              "<span style=\"color: #008000; text-decoration-color: #008000\">emphasizing comfort. Medication strategies are adapted to the individual’s ability to manage diabetes, with options</span>\n",
              "<span style=\"color: #008000; text-decoration-color: #008000\">to simplify or intensify regimens based on changes in health status, hypoglycemia risk, and overall treatment </span>\n",
              "<span style=\"color: #008000; text-decoration-color: #008000\">goals. Continuous glucose monitoring and other technologies are considered to reduce hypoglycemia, alongside </span>\n",
              "<span style=\"color: #008000; text-decoration-color: #008000\">medications that address cardiovascular risks irrespective of glycemic control. This patient-centered approach </span>\n",
              "<span style=\"color: #008000; text-decoration-color: #008000\">prioritizes flexible treatment goals to enhance quality of life and reduce treatment burdens in older adults.'</span>,\n",
              "            <span style=\"color: #008000; text-decoration-color: #008000\">'• Symptoms suggestive of diabetes or changes in risk (B) Diet and Physical Activity Recommendations </span>\n",
              "<span style=\"color: #008000; text-decoration-color: #008000\">for Adults at Risk for Type 2 Diabetes (i) Follow a Healthy Eating Pattern • Emphasize whole grains, legumes, nuts,</span>\n",
              "<span style=\"color: #008000; text-decoration-color: #008000\">fruits, and vegetables and minimize refined and processed foods • A variety of healthy eating patterns include: » </span>\n",
              "<span style=\"color: #008000; text-decoration-color: #008000\">Mediterranean-style » Low-carbohydrate » Vegetarian or plant-based » DASH (Dietary Approaches to Stop Hypertension)</span>\n",
              "<span style=\"color: #008000; text-decoration-color: #008000\">(ii) Get Regular Physical Activity • ≥150 min/week of moderate-intensity physical activity, such as brisk walking •</span>\n",
              "<span style=\"color: #008000; text-decoration-color: #008000\">May include resistance or strength training • Break up prolonged sedentary time (iii) Where to Refer: • Refer </span>\n",
              "<span style=\"color: #008000; text-decoration-color: #008000\">adults with overweight or obesity who are at high risk for type 2 diabetes to a recognized diabetes prevention </span>\n",
              "<span style=\"color: #008000; text-decoration-color: #008000\">lifestyle change program (cdc.gov/diabetes/prevention/find-a-program.html). (iv) What is the Diabetes Prevention </span>\n",
              "<span style=\"color: #008000; text-decoration-color: #008000\">Program? • The Diabetes Prevention Program (DPP) study demonstrated that intensive lifestyle intervention could </span>\n",
              "<span style=\"color: #008000; text-decoration-color: #008000\">reduce the risk of type diabetes by 58% over 3 years.'</span>,\n",
              "            <span style=\"color: #008000; text-decoration-color: #008000\">\"The comprehensive medical evaluation for diabetes management involves a holistic approach that </span>\n",
              "<span style=\"color: #008000; text-decoration-color: #008000\">prioritizes collaborative goal setting tailored to individual preferences and values. An interprofessional team </span>\n",
              "<span style=\"color: #008000; text-decoration-color: #008000\">including specialists from various medical and community fields supports ongoing care. Key components include </span>\n",
              "<span style=\"color: #008000; text-decoration-color: #008000\">regular screening for common and serious comorbidities, such as autoimmune disorders and chronic kidney disease, </span>\n",
              "<span style=\"color: #008000; text-decoration-color: #008000\">particularly focusing on diabetes-related complications like nephropathy. For instance, people with type 1 diabetes</span>\n",
              "<span style=\"color: #008000; text-decoration-color: #008000\">are screened for autoimmune thyroid disease and other conditions soon after diagnosis, while both type 1 and type 2</span>\n",
              "<span style=\"color: #008000; text-decoration-color: #008000\">diabetes patients undergo regular assessments for bone health, cardiovascular risks, and liver disease. Effective </span>\n",
              "<span style=\"color: #008000; text-decoration-color: #008000\">management incorporates lifestyle interventions, pharmacotherapy aligned with specific health risks, and regular </span>\n",
              "<span style=\"color: #008000; text-decoration-color: #008000\">monitoring of treatment efficacy and safety. The approach also includes a detailed review of the patient's medical,</span>\n",
              "<span style=\"color: #008000; text-decoration-color: #008000\">family, and social history, physical examinations, laboratory evaluations, and vaccinations, ensuring a thorough </span>\n",
              "<span style=\"color: #008000; text-decoration-color: #008000\">assessment and optimal management of diabetes and its associated conditions.\"</span>\n",
              "        <span style=\"font-weight: bold\">]</span>\n",
              "    <span style=\"font-weight: bold\">]</span>,\n",
              "    <span style=\"color: #008000; text-decoration-color: #008000\">'uris'</span>: <span style=\"color: #800080; text-decoration-color: #800080; font-style: italic\">None</span>,\n",
              "    <span style=\"color: #008000; text-decoration-color: #008000\">'data'</span>: <span style=\"color: #800080; text-decoration-color: #800080; font-style: italic\">None</span>,\n",
              "    <span style=\"color: #008000; text-decoration-color: #008000\">'included'</span>: <span style=\"font-weight: bold\">[</span><span style=\"color: #008000; text-decoration-color: #008000\">'metadatas'</span>, <span style=\"color: #008000; text-decoration-color: #008000\">'documents'</span>, <span style=\"color: #008000; text-decoration-color: #008000\">'distances'</span><span style=\"font-weight: bold\">]</span>\n",
              "<span style=\"font-weight: bold\">}</span>\n",
              "</pre>\n"
            ]
          },
          "metadata": {}
        }
      ]
    },
    {
      "cell_type": "code",
      "source": [
        "!pip install -q -U google-generativeai"
      ],
      "metadata": {
        "id": "6ECv2xB5YINP"
      },
      "execution_count": 33,
      "outputs": []
    },
    {
      "cell_type": "code",
      "source": [
        "# Import the Python SDK\n",
        "import google.generativeai as genai\n",
        "from google.colab import userdata\n",
        "gemini_api_key = userdata.get('gemini_api')\n",
        "# Used to securely store your API key\n",
        "from google.colab import userdata\n",
        "\n",
        "genai.configure(api_key=gemini_api_key)"
      ],
      "metadata": {
        "id": "5tOleAynYKrU"
      },
      "execution_count": 9,
      "outputs": []
    },
    {
      "cell_type": "code",
      "source": [
        "model = genai.GenerativeModel('gemini-pro')"
      ],
      "metadata": {
        "id": "mYyTEz39YMZE"
      },
      "execution_count": 34,
      "outputs": []
    },
    {
      "cell_type": "code",
      "source": [
        "query_text = \"What are the specific recommendations for screening and treatment of nonalcoholic fatty liver disease (NAFLD) in people with type 2 diabetes who are over 50 years old?\"\n",
        "query_related_doc=get_related_doc(query_text)\n",
        "augmented_prompt = query_text + \"\\n Related Documents: \" + str(query_related_doc['documents'])\n",
        "\n",
        "response = model.generate_content(query_text)\n",
        "print(response.text)"
      ],
      "metadata": {
        "colab": {
          "base_uri": "https://localhost:8080/",
          "height": 625
        },
        "id": "9mjB2c6RYOpA",
        "outputId": "e14a0621-f371-4abd-c5a9-9b49a61b7869"
      },
      "execution_count": 35,
      "outputs": [
        {
          "output_type": "display_data",
          "data": {
            "text/plain": [
              "**Screening**\n",
              "\n",
              "* All people with type \u001b[1;36m2\u001b[0m diabetes over \u001b[1;36m50\u001b[0m years of age should be screened for NAFLD.\n",
              "* Screening can be done using:\n",
              "    * Non-invasive tests: Fibroscan, FibroMeter, liver elastography\n",
              "    * Liver function tests \u001b[1m(\u001b[0mLFTs\u001b[1m)\u001b[0m and metabolic panel\n",
              "    * Imaging tests: Ultrasound, MRI, CT scan\n",
              "\n",
              "**Treatment**\n",
              "\n",
              "* **Lifestyle modifications:**\n",
              "    * Weight loss of at least \u001b[1;36m5\u001b[0m-\u001b[1;36m10\u001b[0m%\n",
              "    * Regular exercise\n",
              "    * Healthy diet \u001b[1m(\u001b[0mMediterranean or DASH diet\u001b[1m)\u001b[0m\n",
              "    * Smoking cessation\n",
              "    * Alcohol intake moderation\n",
              "\n",
              "* **Medications:**\n",
              "    * Pioglitazone \u001b[1m(\u001b[0ma thiazolidinedione\u001b[1m)\u001b[0m may be considered if blood sugar control is stable.\n",
              "    * Metformin is not recommended for NAFLD treatment.\n",
              "\n",
              "* **Monitoring:**\n",
              "    * Monitor liver function tests and fibrosis every \u001b[1;36m6\u001b[0m-\u001b[1;36m12\u001b[0m months to assess response to treatment.\n",
              "    * Consider liver biopsy if non-invasive tests are inconclusive or suggest advanced fibrosis.\n",
              "\n",
              "**Specific Considerations for People over \u001b[1;36m50\u001b[0m Years Old**\n",
              "\n",
              "* Age is a risk factor for more advanced NAFLD and liver fibrosis.\n",
              "* Comorbidities such as cardiovascular disease, kidney disease, and obesity are common in this population and may \n",
              "influence treatment decisions.\n",
              "* Liver fibrosis progresses more slowly in older adults compared to younger adults.\n",
              "\n",
              "**Additional Recommendations**\n",
              "\n",
              "* Avoid hepatotoxic medications.\n",
              "* Vaccinate against hepatitis A and B.\n",
              "* Refer patients with suspected advanced fibrosis or cirrhosis to a liver specialist.\n",
              "* Encourage participation in clinical trials to explore new treatment options.\n"
            ],
            "text/html": [
              "<pre style=\"white-space:pre;overflow-x:auto;line-height:normal;font-family:Menlo,'DejaVu Sans Mono',consolas,'Courier New',monospace\">**Screening**\n",
              "\n",
              "* All people with type <span style=\"color: #008080; text-decoration-color: #008080; font-weight: bold\">2</span> diabetes over <span style=\"color: #008080; text-decoration-color: #008080; font-weight: bold\">50</span> years of age should be screened for NAFLD.\n",
              "* Screening can be done using:\n",
              "    * Non-invasive tests: Fibroscan, FibroMeter, liver elastography\n",
              "    * Liver function tests <span style=\"font-weight: bold\">(</span>LFTs<span style=\"font-weight: bold\">)</span> and metabolic panel\n",
              "    * Imaging tests: Ultrasound, MRI, CT scan\n",
              "\n",
              "**Treatment**\n",
              "\n",
              "* **Lifestyle modifications:**\n",
              "    * Weight loss of at least <span style=\"color: #008080; text-decoration-color: #008080; font-weight: bold\">5</span>-<span style=\"color: #008080; text-decoration-color: #008080; font-weight: bold\">10</span>%\n",
              "    * Regular exercise\n",
              "    * Healthy diet <span style=\"font-weight: bold\">(</span>Mediterranean or DASH diet<span style=\"font-weight: bold\">)</span>\n",
              "    * Smoking cessation\n",
              "    * Alcohol intake moderation\n",
              "\n",
              "* **Medications:**\n",
              "    * Pioglitazone <span style=\"font-weight: bold\">(</span>a thiazolidinedione<span style=\"font-weight: bold\">)</span> may be considered if blood sugar control is stable.\n",
              "    * Metformin is not recommended for NAFLD treatment.\n",
              "\n",
              "* **Monitoring:**\n",
              "    * Monitor liver function tests and fibrosis every <span style=\"color: #008080; text-decoration-color: #008080; font-weight: bold\">6</span>-<span style=\"color: #008080; text-decoration-color: #008080; font-weight: bold\">12</span> months to assess response to treatment.\n",
              "    * Consider liver biopsy if non-invasive tests are inconclusive or suggest advanced fibrosis.\n",
              "\n",
              "**Specific Considerations for People over <span style=\"color: #008080; text-decoration-color: #008080; font-weight: bold\">50</span> Years Old**\n",
              "\n",
              "* Age is a risk factor for more advanced NAFLD and liver fibrosis.\n",
              "* Comorbidities such as cardiovascular disease, kidney disease, and obesity are common in this population and may \n",
              "influence treatment decisions.\n",
              "* Liver fibrosis progresses more slowly in older adults compared to younger adults.\n",
              "\n",
              "**Additional Recommendations**\n",
              "\n",
              "* Avoid hepatotoxic medications.\n",
              "* Vaccinate against hepatitis A and B.\n",
              "* Refer patients with suspected advanced fibrosis or cirrhosis to a liver specialist.\n",
              "* Encourage participation in clinical trials to explore new treatment options.\n",
              "</pre>\n"
            ]
          },
          "metadata": {}
        }
      ]
    }
  ]
}