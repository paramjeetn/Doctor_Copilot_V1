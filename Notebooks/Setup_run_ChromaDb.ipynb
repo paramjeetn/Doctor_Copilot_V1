{
  "nbformat": 4,
  "nbformat_minor": 0,
  "metadata": {
    "colab": {
      "provenance": []
    },
    "kernelspec": {
      "name": "python3",
      "display_name": "Python 3"
    },
    "language_info": {
      "name": "python"
    }
  },
  "cells": [
    {
      "cell_type": "code",
      "source": [
        "!pip -q install tqdm\n",
        "!pip -q install loguru==0.7.0\n",
        "!pip -q install rich\n"
      ],
      "metadata": {
        "id": "7FnQKJBkAqTS",
        "colab": {
          "base_uri": "https://localhost:8080/"
        },
        "outputId": "336043e0-8e30-4d99-ccf4-87259b26eea8"
      },
      "execution_count": 1,
      "outputs": [
        {
          "output_type": "stream",
          "name": "stdout",
          "text": [
            "\u001b[?25l     \u001b[90m━━━━━━━━━━━━━━━━━━━━━━━━━━━━━━━━━━━━━━━━\u001b[0m \u001b[32m0.0/60.0 kB\u001b[0m \u001b[31m?\u001b[0m eta \u001b[36m-:--:--\u001b[0m\r\u001b[2K     \u001b[90m━━━━━━━━━━━━━━━━━━━━━━━━━━━━━━━━━━━━━━━━\u001b[0m \u001b[32m60.0/60.0 kB\u001b[0m \u001b[31m2.2 MB/s\u001b[0m eta \u001b[36m0:00:00\u001b[0m\n",
            "\u001b[?25h"
          ]
        }
      ]
    },
    {
      "cell_type": "code",
      "source": [
        "!curl -o Split_Data_Med.json https://raw.githubusercontent.com/paramjeetn/Doctor_Copilot_V1/main/Data/Split_Data_Med.json\n"
      ],
      "metadata": {
        "id": "KkX7ZC2R-FAA",
        "colab": {
          "base_uri": "https://localhost:8080/"
        },
        "outputId": "bc3d66ff-f7bd-4a09-d8e2-99acbfdd6a1f"
      },
      "execution_count": 2,
      "outputs": [
        {
          "output_type": "stream",
          "name": "stdout",
          "text": [
            "  % Total    % Received % Xferd  Average Speed   Time    Time     Time  Current\n",
            "                                 Dload  Upload   Total   Spent    Left  Speed\n",
            "100  124k  100  124k    0     0   366k      0 --:--:-- --:--:-- --:--:--  367k\n"
          ]
        }
      ]
    },
    {
      "cell_type": "code",
      "execution_count": null,
      "metadata": {
        "id": "aDGcy7W88tln"
      },
      "outputs": [],
      "source": [
        "!pip -q install chromadb"
      ]
    },
    {
      "cell_type": "code",
      "source": [
        "%load_ext autoreload\n",
        "%autoreload 2\n",
        "\n",
        "#standard libraries\n",
        "import sys\n",
        "sys.path.append('../')\n",
        "\n",
        "import json\n",
        "import os\n",
        "import time\n",
        "from typing import List, Tuple\n",
        "from math import ceil\n",
        "\n",
        "#external libraries\n",
        "import pandas as pd\n",
        "import numpy as np\n",
        "from rich import print\n",
        "from rich.pretty import pprint #nifty library for pretty printing\n",
        "from torch import cuda\n",
        "from tqdm import tqdm"
      ],
      "metadata": {
        "id": "D7vvVsEYFIJr"
      },
      "execution_count": 4,
      "outputs": []
    },
    {
      "cell_type": "code",
      "source": [
        "from google.colab import drive\n",
        "drive.mount('/content/gdrive')"
      ],
      "metadata": {
        "colab": {
          "base_uri": "https://localhost:8080/"
        },
        "id": "peAGAUTCDT8z",
        "outputId": "84f827fb-339b-4d53-87ad-f85064a7da3d"
      },
      "execution_count": 5,
      "outputs": [
        {
          "output_type": "stream",
          "name": "stdout",
          "text": [
            "Mounted at /content/gdrive\n"
          ]
        }
      ]
    },
    {
      "cell_type": "code",
      "source": [
        "root_folder = '/content/'  #'../data'\n",
        "data_file = 'Split_Data_Med.json'\n",
        "data_path = os.path.join(root_folder, data_file)\n",
        "\n",
        "\n",
        "def load_json(file_path: str) -> list[dict]:\n",
        "  with open(file_path) as f:\n",
        "    data = json.load(f)\n",
        "  return data\n",
        "\n",
        "data = load_json(data_path)\n",
        "# print(f'Total # of papers: {len(data)}')\n",
        "# print(data[:1])"
      ],
      "metadata": {
        "id": "rPR7dTGRFBFZ"
      },
      "execution_count": 6,
      "outputs": []
    },
    {
      "cell_type": "code",
      "source": [
        "import json\n",
        "import chromadb\n",
        "#change path accordingly for local and colab\n",
        "path = '/content/gdrive/MyDrive/Data_Medical_Rag/ChromaDb'\n",
        "client = chromadb.PersistentClient(path)"
      ],
      "metadata": {
        "id": "4Yrp6Z_E_KH_"
      },
      "execution_count": 7,
      "outputs": []
    },
    {
      "cell_type": "code",
      "source": [
        "client.heartbeat()"
      ],
      "metadata": {
        "colab": {
          "base_uri": "https://localhost:8080/"
        },
        "id": "QWqZVHbFFwdi",
        "outputId": "8f3f8bd0-f1ab-4d96-ca98-e561886ccb13"
      },
      "execution_count": 8,
      "outputs": [
        {
          "output_type": "execute_result",
          "data": {
            "text/plain": [
              "1719775321271596810"
            ]
          },
          "metadata": {},
          "execution_count": 8
        }
      ]
    },
    {
      "cell_type": "code",
      "source": [
        "collection = client.get_or_create_collection(\"Doctor_Copilot_chromaDB_Collection\")\n"
      ],
      "metadata": {
        "id": "J-GxDdhaGB56"
      },
      "execution_count": 9,
      "outputs": []
    },
    {
      "cell_type": "code",
      "source": [
        "data = load_json(data_path)\n",
        "\n",
        "documents_embeddings = []\n",
        "metadata_list = []\n",
        "ids_list = []\n",
        "\n",
        "for doc in data:\n",
        "    # Assuming you need to convert the content into a list of embeddings\n",
        "    # Replace this with your actual embedding conversion logic\n",
        "    #adding summary\n",
        "\n",
        "    #adding content\n",
        "    documents_embeddings.append(doc[\"content\"])  # Split the content string into floats\n",
        "    metadata_list.append({\"doc_id\": doc[\"doc_id\"], \"doc_name\": doc[\"doc_name\"]})\n",
        "    ids_list.append(doc[\"content_id\"])\n",
        "\n",
        "# print(\"Adding to collection:\")\n",
        "# print(\"Documents:\", documents_embeddings)\n",
        "# print(\"Metadata:\", metadata_list)\n",
        "# print(\"IDs:\", ids_list)\n",
        "\n",
        "collection.upsert(\n",
        "    documents=documents_embeddings,\n",
        "    ids=ids_list\n",
        ")"
      ],
      "metadata": {
        "colab": {
          "base_uri": "https://localhost:8080/"
        },
        "collapsed": true,
        "id": "OGLCZb0rGNtw",
        "outputId": "73613b9c-3361-42ae-a0c3-540dc2c2624b"
      },
      "execution_count": 10,
      "outputs": [
        {
          "output_type": "stream",
          "name": "stderr",
          "text": [
            "/root/.cache/chroma/onnx_models/all-MiniLM-L6-v2/onnx.tar.gz: 100%|██████████| 79.3M/79.3M [00:06<00:00, 13.1MiB/s]\n"
          ]
        }
      ]
    },
    {
      "cell_type": "code",
      "source": [
        "\n",
        "collection.query(\n",
        "    query_texts=[\"What are the specific recommendations for screening and treatment of nonalcoholic fatty liver disease (NAFLD) in people with type 2 diabetes who are over 50 years old?\"],\n",
        "    n_results=2,\n",
        ")\n"
      ],
      "metadata": {
        "colab": {
          "base_uri": "https://localhost:8080/"
        },
        "id": "FtSTroM_N3Xv",
        "outputId": "d151ba8a-8697-4c56-c444-3b7c9f06a5b8"
      },
      "execution_count": 11,
      "outputs": [
        {
          "output_type": "execute_result",
          "data": {
            "text/plain": [
              "{'ids': [['d_8_cont_3', 'd_8_cont_5']],\n",
              " 'distances': [[0.5174748301506042, 0.7153717279434204]],\n",
              " 'metadatas': [[None, None]],\n",
              " 'embeddings': None,\n",
              " 'documents': [['Consider antiresorptive and osteo-anabolic agents for those with aT-score ≤−2.0 or previous fragility fractures. Question: Are people with diabetes at increased risk for cancer? Ans: Diabetes is associated with increased risk of cancers of the liver, pancreas, endometrium, colon/rectum, breast, and bladder. Nevertheless, cancer screening recommendations are the same for people with diabetes as for those without diabetes. Question: How prevalent is nonalcoholic fatty liver disease (NAFLD)? Who should be screened for it and how? Ans: i) Prevalence Approximately 70% of people with type 2 diabetes have NAFLD.',\n",
              "   'Indeterminate Risk: Further Testing: Proceed with vibration-controlled transient elastography or an ELF (Enhanced Liver Fibrosis) blood test to refine the risk assessment. After further testing: Low Risk: Continue to monitor with a repeat of the test in 2-3 years. High Risk: Refer to a gastroenterologist or hepatologist for further evaluation and management. High Risk: Immediate Referral: Refer directly to a gastroenterologist or hepatologist for advanced management and intervention. This flowchart provides a guideline on how to proceed with fibrosis risk assessment in patients using initial noninvasive testing and determining the need for further evaluation or routine monitoring based on risk levels. Management Weight loss with intensive lifestyle therapy and/or metabolic surgery, as appropriate, is recommended. Pioglitazone and glucagon-like peptide 1 receptor agonists are the preferred agents for treatment of hyperglycemia in adults with type 2 diabetes and NASH, unless decompensated cirrhosis is present. People with type 2 diabetes and decompensated cirrhosis from NASH should be treated with insulin. Statin therapy is safe in the setting of NAFLD.']],\n",
              " 'uris': None,\n",
              " 'data': None,\n",
              " 'included': ['metadatas', 'documents', 'distances']}"
            ]
          },
          "metadata": {},
          "execution_count": 11
        }
      ]
    },
    {
      "cell_type": "code",
      "source": [
        "from google.colab import files\n",
        "\n",
        "folder_path = '/content/gdrive/MyDrive/Data_Medical_Rag/ChromaDb'\n",
        "!zip -r {folder_path}.zip {folder_path}\n",
        "files.download(f'{folder_path}.zip')"
      ],
      "metadata": {
        "id": "RymkCQd24k_k",
        "colab": {
          "base_uri": "https://localhost:8080/",
          "height": 146
        },
        "outputId": "288af360-d746-489f-8df3-48b2b558eeac"
      },
      "execution_count": 12,
      "outputs": [
        {
          "output_type": "stream",
          "name": "stdout",
          "text": [
            "  adding: content/gdrive/MyDrive/Data_Medical_Rag/ChromaDb/ (stored 0%)\n",
            "  adding: content/gdrive/MyDrive/Data_Medical_Rag/ChromaDb/chroma.sqlite3 (deflated 59%)\n",
            "  adding: content/gdrive/MyDrive/Data_Medical_Rag/ChromaDb/b5230653-3a89-4979-871c-ddeab89fbbf8/ (stored 0%)\n",
            "  adding: content/gdrive/MyDrive/Data_Medical_Rag/ChromaDb/b5230653-3a89-4979-871c-ddeab89fbbf8/header.bin (deflated 61%)\n",
            "  adding: content/gdrive/MyDrive/Data_Medical_Rag/ChromaDb/b5230653-3a89-4979-871c-ddeab89fbbf8/data_level0.bin (deflated 100%)\n",
            "  adding: content/gdrive/MyDrive/Data_Medical_Rag/ChromaDb/b5230653-3a89-4979-871c-ddeab89fbbf8/length.bin (deflated 30%)\n",
            "  adding: content/gdrive/MyDrive/Data_Medical_Rag/ChromaDb/b5230653-3a89-4979-871c-ddeab89fbbf8/link_lists.bin (stored 0%)\n"
          ]
        },
        {
          "output_type": "display_data",
          "data": {
            "text/plain": [
              "<IPython.core.display.Javascript object>"
            ],
            "application/javascript": [
              "\n",
              "    async function download(id, filename, size) {\n",
              "      if (!google.colab.kernel.accessAllowed) {\n",
              "        return;\n",
              "      }\n",
              "      const div = document.createElement('div');\n",
              "      const label = document.createElement('label');\n",
              "      label.textContent = `Downloading \"${filename}\": `;\n",
              "      div.appendChild(label);\n",
              "      const progress = document.createElement('progress');\n",
              "      progress.max = size;\n",
              "      div.appendChild(progress);\n",
              "      document.body.appendChild(div);\n",
              "\n",
              "      const buffers = [];\n",
              "      let downloaded = 0;\n",
              "\n",
              "      const channel = await google.colab.kernel.comms.open(id);\n",
              "      // Send a message to notify the kernel that we're ready.\n",
              "      channel.send({})\n",
              "\n",
              "      for await (const message of channel.messages) {\n",
              "        // Send a message to notify the kernel that we're ready.\n",
              "        channel.send({})\n",
              "        if (message.buffers) {\n",
              "          for (const buffer of message.buffers) {\n",
              "            buffers.push(buffer);\n",
              "            downloaded += buffer.byteLength;\n",
              "            progress.value = downloaded;\n",
              "          }\n",
              "        }\n",
              "      }\n",
              "      const blob = new Blob(buffers, {type: 'application/binary'});\n",
              "      const a = document.createElement('a');\n",
              "      a.href = window.URL.createObjectURL(blob);\n",
              "      a.download = filename;\n",
              "      div.appendChild(a);\n",
              "      a.click();\n",
              "      div.remove();\n",
              "    }\n",
              "  "
            ]
          },
          "metadata": {}
        },
        {
          "output_type": "display_data",
          "data": {
            "text/plain": [
              "<IPython.core.display.Javascript object>"
            ],
            "application/javascript": [
              "download(\"download_757b5b29-73b0-4f15-b5fd-2c3f56fe052c\", \"ChromaDb.zip\", 523509)"
            ]
          },
          "metadata": {}
        }
      ]
    }
  ]
}