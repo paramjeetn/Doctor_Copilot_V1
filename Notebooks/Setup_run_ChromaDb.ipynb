{
  "nbformat": 4,
  "nbformat_minor": 0,
  "metadata": {
    "colab": {
      "provenance": []
    },
    "kernelspec": {
      "name": "python3",
      "display_name": "Python 3"
    },
    "language_info": {
      "name": "python"
    }
  },
  "cells": [
    {
      "cell_type": "code",
      "source": [
        "\n",
        "#visualization tool for displaying long load/processing times\n",
        "!pip install tqdm --quiet\n",
        "#data processing\n",
        "!pip install pandas --quiet\n",
        "#workhorse for converting text into embeddings/vectors\n",
        "!pip install sentence-transformers==2.2.2 --quiet\n",
        "#data framework for LLM applications\n",
        "!pip install llama-index==0.9.29  --quiet\n",
        "#logging output\n",
        "!pip install loguru==0.7.0 --quiet\n",
        "#convenient pretty printing library\n",
        "!pip install rich --quiet\n",
        "#openai Tokenizer library\n",
        "!pip install tiktoken --quiet"
      ],
      "metadata": {
        "id": "7FnQKJBkAqTS"
      },
      "execution_count": null,
      "outputs": []
    },
    {
      "cell_type": "code",
      "source": [
        "!curl -o Split_Data_Med.json https://raw.githubusercontent.com/paramjeetn/Doctor_Copilot_V1/main/Data/Split_Data_Med.json\n"
      ],
      "metadata": {
        "id": "KkX7ZC2R-FAA",
        "colab": {
          "base_uri": "https://localhost:8080/"
        },
        "outputId": "4ded40ed-d588-4bb6-e491-fc5967fbee2b"
      },
      "execution_count": 2,
      "outputs": [
        {
          "output_type": "stream",
          "name": "stdout",
          "text": [
            "  % Total    % Received % Xferd  Average Speed   Time    Time     Time  Current\n",
            "                                 Dload  Upload   Total   Spent    Left  Speed\n",
            "\r  0     0    0     0    0     0      0      0 --:--:-- --:--:-- --:--:--     0\r100  124k  100  124k    0     0   776k      0 --:--:-- --:--:-- --:--:--  780k\n"
          ]
        }
      ]
    },
    {
      "cell_type": "code",
      "execution_count": null,
      "metadata": {
        "id": "aDGcy7W88tln"
      },
      "outputs": [],
      "source": [
        "!pip install chromadb --quiet"
      ]
    },
    {
      "cell_type": "code",
      "source": [
        "%load_ext autoreload\n",
        "%autoreload 2\n",
        "\n",
        "#standard libraries\n",
        "import sys\n",
        "sys.path.append('../')\n",
        "\n",
        "import json\n",
        "import os\n",
        "import time\n",
        "from typing import List, Tuple\n",
        "from math import ceil\n",
        "\n",
        "#external libraries\n",
        "import pandas as pd\n",
        "import numpy as np\n",
        "from rich import print\n",
        "from rich.pretty import pprint #nifty library for pretty printing\n",
        "from torch import cuda\n",
        "from tqdm import tqdm"
      ],
      "metadata": {
        "id": "D7vvVsEYFIJr"
      },
      "execution_count": 4,
      "outputs": []
    },
    {
      "cell_type": "code",
      "source": [
        "from google.colab import drive\n",
        "drive.mount('/content/gdrive')"
      ],
      "metadata": {
        "colab": {
          "base_uri": "https://localhost:8080/"
        },
        "id": "peAGAUTCDT8z",
        "outputId": "8ce4937e-b337-4eab-93b6-e2910f617f0e"
      },
      "execution_count": 5,
      "outputs": [
        {
          "output_type": "stream",
          "name": "stdout",
          "text": [
            "Mounted at /content/gdrive\n"
          ]
        }
      ]
    },
    {
      "cell_type": "code",
      "source": [
        "root_folder = '/content/'  #'../data'\n",
        "data_file = 'Split_Data_Med.json'\n",
        "data_path = os.path.join(root_folder, data_file)\n",
        "\n",
        "\n",
        "def load_json(file_path: str) -> list[dict]:\n",
        "  with open(file_path) as f:\n",
        "    data = json.load(f)\n",
        "  return data\n",
        "\n",
        "data = load_json(data_path)\n",
        "# print(f'Total # of papers: {len(data)}')\n",
        "# print(data[:1])"
      ],
      "metadata": {
        "id": "rPR7dTGRFBFZ"
      },
      "execution_count": 6,
      "outputs": []
    },
    {
      "cell_type": "code",
      "source": [
        "import json\n",
        "import chromadb\n",
        "#change path accordingly for local and colab\n",
        "path = '/content/gdrive/MyDrive/Data_Medical_Rag/ChromaDb'\n",
        "client = chromadb.PersistentClient(path)"
      ],
      "metadata": {
        "id": "4Yrp6Z_E_KH_"
      },
      "execution_count": 7,
      "outputs": []
    },
    {
      "cell_type": "code",
      "source": [
        "client.heartbeat()"
      ],
      "metadata": {
        "colab": {
          "base_uri": "https://localhost:8080/"
        },
        "id": "QWqZVHbFFwdi",
        "outputId": "4981ab12-0b7f-433b-dea4-b65b169b402c"
      },
      "execution_count": 8,
      "outputs": [
        {
          "output_type": "execute_result",
          "data": {
            "text/plain": [
              "1719763239891586105"
            ]
          },
          "metadata": {},
          "execution_count": 8
        }
      ]
    },
    {
      "cell_type": "code",
      "source": [
        "collection = client.get_or_create_collection(\"Doctor_Copilot_chromaDB_Collection\")\n"
      ],
      "metadata": {
        "id": "J-GxDdhaGB56"
      },
      "execution_count": 9,
      "outputs": []
    },
    {
      "cell_type": "code",
      "source": [
        "data = load_json(data_path)\n",
        "\n",
        "documents_embeddings = []\n",
        "metadata_list = []\n",
        "ids_list = []\n",
        "\n",
        "for doc in data:\n",
        "    # Assuming you need to convert the content into a list of embeddings\n",
        "    # Replace this with your actual embedding conversion logic\n",
        "    #adding summary\n",
        "\n",
        "    #adding content\n",
        "    documents_embeddings.append(doc[\"content\"])  # Split the content string into floats\n",
        "    metadata_list.append({\"doc_id\": doc[\"doc_id\"], \"doc_name\": doc[\"doc_name\"]})\n",
        "    ids_list.append(doc[\"content_id\"])\n",
        "\n",
        "# print(\"Adding to collection:\")\n",
        "# print(\"Documents:\", documents_embeddings)\n",
        "# print(\"Metadata:\", metadata_list)\n",
        "# print(\"IDs:\", ids_list)\n",
        "\n",
        "collection.upsert(\n",
        "    documents=documents_embeddings,\n",
        "    ids=ids_list\n",
        ")"
      ],
      "metadata": {
        "colab": {
          "base_uri": "https://localhost:8080/"
        },
        "collapsed": true,
        "id": "OGLCZb0rGNtw",
        "outputId": "df51d6dd-b2cc-421d-b723-a1177f5211b4"
      },
      "execution_count": 10,
      "outputs": [
        {
          "output_type": "stream",
          "name": "stderr",
          "text": [
            "/root/.cache/chroma/onnx_models/all-MiniLM-L6-v2/onnx.tar.gz: 100%|██████████| 79.3M/79.3M [00:01<00:00, 45.2MiB/s]\n"
          ]
        }
      ]
    },
    {
      "cell_type": "code",
      "source": [
        "\n",
        "collection.query(\n",
        "    query_texts=[\"What are the specific recommendations for screening and treatment of nonalcoholic fatty liver disease (NAFLD) in people with type 2 diabetes who are over 50 years old?\"],\n",
        "    n_results=2,\n",
        ")\n"
      ],
      "metadata": {
        "colab": {
          "base_uri": "https://localhost:8080/"
        },
        "id": "FtSTroM_N3Xv",
        "outputId": "458f9538-b533-4638-ea90-74710ed0fe39"
      },
      "execution_count": 15,
      "outputs": [
        {
          "output_type": "execute_result",
          "data": {
            "text/plain": [
              "{'ids': [['d_8_cont_3', 'd_8_cont_5']],\n",
              " 'distances': [[0.5174748301506042, 0.7153717279434204]],\n",
              " 'metadatas': [[None, None]],\n",
              " 'embeddings': None,\n",
              " 'documents': [['Consider antiresorptive and osteo-anabolic agents for those with aT-score ≤−2.0 or previous fragility fractures. Question: Are people with diabetes at increased risk for cancer? Ans: Diabetes is associated with increased risk of cancers of the liver, pancreas, endometrium, colon/rectum, breast, and bladder. Nevertheless, cancer screening recommendations are the same for people with diabetes as for those without diabetes. Question: How prevalent is nonalcoholic fatty liver disease (NAFLD)? Who should be screened for it and how? Ans: i) Prevalence Approximately 70% of people with type 2 diabetes have NAFLD.',\n",
              "   'Indeterminate Risk: Further Testing: Proceed with vibration-controlled transient elastography or an ELF (Enhanced Liver Fibrosis) blood test to refine the risk assessment. After further testing: Low Risk: Continue to monitor with a repeat of the test in 2-3 years. High Risk: Refer to a gastroenterologist or hepatologist for further evaluation and management. High Risk: Immediate Referral: Refer directly to a gastroenterologist or hepatologist for advanced management and intervention. This flowchart provides a guideline on how to proceed with fibrosis risk assessment in patients using initial noninvasive testing and determining the need for further evaluation or routine monitoring based on risk levels. Management Weight loss with intensive lifestyle therapy and/or metabolic surgery, as appropriate, is recommended. Pioglitazone and glucagon-like peptide 1 receptor agonists are the preferred agents for treatment of hyperglycemia in adults with type 2 diabetes and NASH, unless decompensated cirrhosis is present. People with type 2 diabetes and decompensated cirrhosis from NASH should be treated with insulin. Statin therapy is safe in the setting of NAFLD.']],\n",
              " 'uris': None,\n",
              " 'data': None,\n",
              " 'included': ['metadatas', 'documents', 'distances']}"
            ]
          },
          "metadata": {},
          "execution_count": 15
        }
      ]
    },
    {
      "cell_type": "code",
      "source": [
        "from google.colab import files\n",
        "\n",
        "folder_path = '/content/gdrive/MyDrive/Data_Medical_Rag/ChromaDb'\n",
        "!zip -r {folder_path}.zip {folder_path}\n",
        "files.download(f'{folder_path}.zip')"
      ],
      "metadata": {
        "id": "RymkCQd24k_k"
      },
      "execution_count": null,
      "outputs": []
    }
  ]
}