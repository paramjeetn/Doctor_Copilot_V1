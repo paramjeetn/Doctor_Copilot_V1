{
  "nbformat": 4,
  "nbformat_minor": 0,
  "metadata": {
    "colab": {
      "provenance": [],
      "mount_file_id": "1Kz0r9-b_r88vG3sQSDUUgM28hqixZ1V-",
      "authorship_tag": "ABX9TyMFXe+XKROcMvHgk/4uLxUg",
      "include_colab_link": true
    },
    "kernelspec": {
      "name": "python3",
      "display_name": "Python 3"
    },
    "language_info": {
      "name": "python"
    }
  },
  "cells": [
    {
      "cell_type": "markdown",
      "metadata": {
        "id": "view-in-github",
        "colab_type": "text"
      },
      "source": [
        "<a href=\"https://colab.research.google.com/github/paramjeetn/Doctor_Copilot_V1/blob/main/Notebooks/Setup_run_ChromaDb.ipynb\" target=\"_parent\"><img src=\"https://colab.research.google.com/assets/colab-badge.svg\" alt=\"Open In Colab\"/></a>"
      ]
    },
    {
      "cell_type": "code",
      "source": [
        "\n",
        "#visualization tool for displaying long load/processing times\n",
        "!pip install tqdm --quiet\n",
        "#data processing\n",
        "!pip install pandas --quiet\n",
        "#workhorse for converting text into embeddings/vectors\n",
        "!pip install sentence-transformers==2.2.2 --quiet\n",
        "#data framework for LLM applications\n",
        "!pip install llama-index==0.9.29  --quiet\n",
        "#logging output\n",
        "!pip install loguru==0.7.0 --quiet\n",
        "#convenient pretty printing library\n",
        "!pip install rich --quiet\n",
        "#openai Tokenizer library\n",
        "!pip install tiktoken --quiet"
      ],
      "metadata": {
        "id": "7FnQKJBkAqTS"
      },
      "execution_count": null,
      "outputs": []
    },
    {
      "cell_type": "code",
      "source": [
        "!curl -o Split_Data_Med.json https://raw.githubusercontent.com/paramjeetn/Doctor_Copilot_V1/main/Data/Split_Data_Med.json\n"
      ],
      "metadata": {
        "id": "KkX7ZC2R-FAA",
        "colab": {
          "base_uri": "https://localhost:8080/"
        },
        "outputId": "7aa5117a-92a2-4cb8-a145-d61a894373f6"
      },
      "execution_count": 2,
      "outputs": [
        {
          "output_type": "stream",
          "name": "stdout",
          "text": [
            "  % Total    % Received % Xferd  Average Speed   Time    Time     Time  Current\n",
            "                                 Dload  Upload   Total   Spent    Left  Speed\n",
            "100  205k  100  205k    0     0   359k      0 --:--:-- --:--:-- --:--:--  359k\n"
          ]
        }
      ]
    },
    {
      "cell_type": "code",
      "execution_count": null,
      "metadata": {
        "id": "aDGcy7W88tln"
      },
      "outputs": [],
      "source": [
        "!pip install chromadb --quiet"
      ]
    },
    {
      "cell_type": "code",
      "source": [
        "%load_ext autoreload\n",
        "%autoreload 2\n",
        "\n",
        "#standard libraries\n",
        "import sys\n",
        "sys.path.append('../')\n",
        "\n",
        "import json\n",
        "import os\n",
        "import time\n",
        "from typing import List, Tuple\n",
        "from math import ceil\n",
        "\n",
        "#external libraries\n",
        "import pandas as pd\n",
        "import numpy as np\n",
        "from rich import print\n",
        "from rich.pretty import pprint #nifty library for pretty printing\n",
        "from torch import cuda\n",
        "from tqdm import tqdm"
      ],
      "metadata": {
        "id": "D7vvVsEYFIJr"
      },
      "execution_count": 4,
      "outputs": []
    },
    {
      "cell_type": "code",
      "source": [
        "from google.colab import drive\n",
        "drive.mount('/content/gdrive')"
      ],
      "metadata": {
        "colab": {
          "base_uri": "https://localhost:8080/"
        },
        "id": "peAGAUTCDT8z",
        "outputId": "39302689-ecfb-4243-c7ee-239e16253152"
      },
      "execution_count": 5,
      "outputs": [
        {
          "output_type": "stream",
          "name": "stdout",
          "text": [
            "Mounted at /content/gdrive\n"
          ]
        }
      ]
    },
    {
      "cell_type": "code",
      "source": [
        "root_folder = '/content/'  #'../data'\n",
        "data_file = 'Split_Data_Med.json'\n",
        "data_path = os.path.join(root_folder, data_file)\n",
        "\n",
        "\n",
        "def load_json(file_path: str) -> list[dict]:\n",
        "  with open(file_path) as f:\n",
        "    data = json.load(f)\n",
        "  return data\n",
        "\n",
        "# data = load_json(data_path)\n",
        "# print(f'Total # of papers: {len(data)}')"
      ],
      "metadata": {
        "id": "rPR7dTGRFBFZ"
      },
      "execution_count": 7,
      "outputs": []
    },
    {
      "cell_type": "code",
      "source": [
        "import json\n",
        "import chromadb\n",
        "#change path accordingly for local and colab\n",
        "path = '/content/gdrive/MyDrive/Data_Medical_Rag/ChromaDb'\n",
        "client = chromadb.PersistentClient(path)"
      ],
      "metadata": {
        "id": "4Yrp6Z_E_KH_"
      },
      "execution_count": 8,
      "outputs": []
    },
    {
      "cell_type": "code",
      "source": [
        "client.heartbeat()"
      ],
      "metadata": {
        "colab": {
          "base_uri": "https://localhost:8080/"
        },
        "id": "QWqZVHbFFwdi",
        "outputId": "d7b2dd6d-e28b-4547-ead8-7133563c132a"
      },
      "execution_count": 9,
      "outputs": [
        {
          "output_type": "execute_result",
          "data": {
            "text/plain": [
              "1719753701513457960"
            ]
          },
          "metadata": {},
          "execution_count": 9
        }
      ]
    },
    {
      "cell_type": "code",
      "source": [
        "collection = client.create_collection(\"Doctor_Copilot_chromaDB_Collection\")\n"
      ],
      "metadata": {
        "id": "J-GxDdhaGB56"
      },
      "execution_count": 10,
      "outputs": []
    },
    {
      "cell_type": "code",
      "source": [
        "data = load_json(data_path)\n",
        "\n",
        "documents_embeddings = []\n",
        "metadata_list = []\n",
        "ids_list = []\n",
        "\n",
        "for doc in data:\n",
        "    # Assuming you need to convert the content into a list of embeddings\n",
        "    # Replace this with your actual embedding conversion logic\n",
        "    documents_embeddings.append(doc[\"content\"])  # Split the content string into floats\n",
        "    metadata_list.append({\"doc_id\": doc[\"doc_id\"], \"doc_name\": doc[\"doc_name\"]})\n",
        "    ids_list.append(doc[\"content_id\"])\n",
        "\n",
        "# print(\"Adding to collection:\")\n",
        "# print(\"Documents:\", documents_embeddings)\n",
        "# print(\"Metadata:\", metadata_list)\n",
        "# print(\"IDs:\", ids_list)\n",
        "\n",
        "collection.upsert(\n",
        "    documents=documents_embeddings,\n",
        "    ids=ids_list\n",
        ")"
      ],
      "metadata": {
        "colab": {
          "base_uri": "https://localhost:8080/"
        },
        "collapsed": true,
        "id": "OGLCZb0rGNtw",
        "outputId": "0b93911b-b5d5-45ee-a69d-131f8b5fdc1e"
      },
      "execution_count": 11,
      "outputs": [
        {
          "output_type": "stream",
          "name": "stderr",
          "text": [
            "/root/.cache/chroma/onnx_models/all-MiniLM-L6-v2/onnx.tar.gz: 100%|██████████| 79.3M/79.3M [00:08<00:00, 10.1MiB/s]\n"
          ]
        }
      ]
    },
    {
      "cell_type": "code",
      "source": [
        "\n",
        "collection.query(\n",
        "    query_texts=[\"Prevention of diabetes in older adults\"],\n",
        "    n_results=2,\n",
        ")\n"
      ],
      "metadata": {
        "colab": {
          "base_uri": "https://localhost:8080/"
        },
        "id": "FtSTroM_N3Xv",
        "outputId": "8e3f836d-6261-4a82-ddcb-786c87b34c9f"
      },
      "execution_count": 12,
      "outputs": [
        {
          "output_type": "execute_result",
          "data": {
            "text/plain": [
              "{'ids': [['d_2_cont_2', 'd_11_cont_1']],\n",
              " 'distances': [[0.8127467058934484, 0.9373169392363202]],\n",
              " 'metadatas': [[None, None]],\n",
              " 'embeddings': None,\n",
              " 'documents': [['• Symptoms suggestive of diabetes or changes in risk (B) Diet and Physical Activity Recommendations for Adults at Risk for Type 2 Diabetes (i) Follow a Healthy Eating Pattern • Emphasize whole grains, legumes, nuts, fruits, and vegetables and minimize refined and processed foods • A variety of healthy eating patterns include: » Mediterranean-style » Low-carbohydrate » Vegetarian or plant-based » DASH (Dietary Approaches to Stop Hypertension) (ii) Get Regular Physical Activity • ≥150 min/week of moderate-intensity physical activity, such as brisk walking • May include resistance or strength training • Break up prolonged sedentary time (iii) Where to Refer: • Refer adults with overweight or obesity who are at high risk for type 2 diabetes to a recognized diabetes prevention lifestyle change program (cdc.gov/diabetes/prevention/find-a-program.html). (iv) What is the Diabetes Prevention Program? • The Diabetes Prevention Program (DPP) study demonstrated that intensive lifestyle intervention could reduce the risk of type diabetes by 58% over 3 years.',\n",
              "   'Individualization of Treatment Goals and Medication Plans for Older Adults With Diabetes Central Panel: Patient Characteristics and Health Status i) Healthy Individuals: (1) Characteristics: Few coexisting chronic illnesses and intact cognitive and functional status. (2) Treatment Goal: A1C <7-7.5% (53-58 mmol/mol). ii) Complex/Intermediate Health: (1) Characteristics: Multiple coexisting chronic illnesses or two or more instrumental activities of daily living (IADL) impairments or mild to moderate cognitive impairments. (2) Treatment Goal: A1C <8.0% (<64 mmol/mol). iii) Community-dwelling Individuals in Skilled Nursing Facilities: (1) Characteristics: Receiving care in a skilled nursing facility for short-term rehabilitation. (2) Treatment Goal: Focus on glucose goals of 100–200 mg/dL (5.55–11.1 mmol/L) rather than strict A1C targets. iv) Very Complex/Poor Health: (1) Characteristics: Long-term care or end-stage chronic illnesses or moderate to severe cognitive impairment or more ADL impairments.']],\n",
              " 'uris': None,\n",
              " 'data': None,\n",
              " 'included': ['metadatas', 'documents', 'distances']}"
            ]
          },
          "metadata": {},
          "execution_count": 12
        }
      ]
    }
  ]
}